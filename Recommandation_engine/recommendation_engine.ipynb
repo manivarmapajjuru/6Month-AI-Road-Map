{
 "cells": [
  {
   "cell_type": "code",
   "execution_count": null,
   "id": "3da59083-335e-4639-aff2-989d2cc1889c",
   "metadata": {},
   "outputs": [],
   "source": [
    "import pandas as pd\n",
    "import numpy as np\n",
    "from sklearn.feature_extraction.text import TfidfVectorizer\n",
    "from sklearn.metrics.pairwise import cosine_similarity\n",
    "import difflib  # Corrected\n",
    "\n",
    "# Load the dataset\n",
    "df = pd.read_csv(r\"C:\\Users\\hp\\OneDrive\\Documents\\SRK_CLASS\\SRK_Class\\Notes\\16. Recommendation Engines\\movies.csv\")\n",
    "\n",
    "# Clean the dataset\n",
    "df.dropna(inplace=True)\n",
    "\n",
    "# TF-IDF on 'genres' column\n",
    "vectorizer = TfidfVectorizer()\n",
    "feature_vectors = vectorizer.fit_transform(df['genres'])\n",
    "\n",
    "# like k-mea\n",
    "\n",
    "\n",
    "\n",
    "# Compute cosine similarity\n",
    "similarity = cosine_similarity(feature_vectors)\n",
    "\n",
    "# Get list of movie titles\n",
    "list_of_titles = df['title'].tolist()\n",
    "\n",
    "# Take user input\n",
    "movie = input(\"Enter your Movie Name: \")\n",
    "\n",
    "# Find closest match\n",
    "close_match = difflib.get_close_matches(movie, list_of_titles, n=1, cutoff=0.6)\n",
    "\n",
    "if close_match:\n",
    "    matched_movie = close_match[0]\n",
    "    index_of_the_movie = df[df.title == matched_movie].index[0]\n",
    "\n",
    "    # Get list of similar movies with scores\n",
    "    similar_movies = list(enumerate(similarity[index_of_the_movie]))\n",
    "    sorted_similar_movies = sorted(similar_movies, key=lambda x: x[1], reverse=True)\n",
    "\n",
    "    # Print top 10 recommended movies\n",
    "    print('\\nMovies Suggested for you:\\n')\n",
    "    i = 1\n",
    "    for movie in sorted_similar_movies:\n",
    "        index = movie[0]\n",
    "        title_from_index = df.iloc[index]['title']\n",
    "        if i <= 10:\n",
    "            print(f\"{i}. {title_from_index}\")\n",
    "            i += 1\n",
    "else:\n",
    "    print(\"No close match found for the entered movie.\")\n"
   ]
  }
 ],
 "metadata": {
  "kernelspec": {
   "display_name": "Python 3 (ipykernel)",
   "language": "python",
   "name": "python3"
  },
  "language_info": {
   "codemirror_mode": {
    "name": "ipython",
    "version": 3
   },
   "file_extension": ".py",
   "mimetype": "text/x-python",
   "name": "python",
   "nbconvert_exporter": "python",
   "pygments_lexer": "ipython3",
   "version": "3.12.4"
  }
 },
 "nbformat": 4,
 "nbformat_minor": 5
}
