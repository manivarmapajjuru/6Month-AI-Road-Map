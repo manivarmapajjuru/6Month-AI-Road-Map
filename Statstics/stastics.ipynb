{
 "cells": [
  {
   "cell_type": "code",
   "execution_count": 2,
   "id": "9411bc0d-c04d-46ca-915f-a8bb6a7bf807",
   "metadata": {},
   "outputs": [
    {
     "data": {
      "text/plain": [
       "1.0954451150103321"
      ]
     },
     "execution_count": 2,
     "metadata": {},
     "output_type": "execute_result"
    }
   ],
   "source": [
    "# right tail Alpha=0.05\n",
    "import numpy as np                        # pizzza problem\n",
    "import pandas as pd\n",
    "p=(32-30)/(10/(np.sqrt(30)))\n",
    "p\n"
   ]
  },
  {
   "cell_type": "markdown",
   "id": "02ae6ed6-693a-4f88-a2b4-dd989abf417e",
   "metadata": {},
   "source": [
    " # HERE all examples alpha = 0.05"
   ]
  },
  {
   "cell_type": "code",
   "execution_count": 9,
   "id": "cd2ff5fb-3777-4f6a-bc71-29651f088e1a",
   "metadata": {},
   "outputs": [
    {
     "name": "stdout",
     "output_type": "stream",
     "text": [
      "0.1378565720320355\n"
     ]
    }
   ],
   "source": [
    "from scipy import stats\n",
    "a=stats.norm.cdf(1.09)  \n",
    "print(1-a)                     # in right tail 1-alpha"
   ]
  },
  {
   "cell_type": "raw",
   "id": "222f2261-6459-4dbb-9f99-d4b152bddadc",
   "metadata": {},
   "source": [
    " p>alpha  null high\n",
    "accept h0"
   ]
  },
  {
   "cell_type": "markdown",
   "id": "17927b30-143f-4be6-ac47-c0b971f2aabc",
   "metadata": {},
   "source": []
  },
  {
   "cell_type": "markdown",
   "id": "3f38910b-9811-4464-ac91-ff997d68fe7d",
   "metadata": {},
   "source": [
    " # left tail   perfume bottle "
   ]
  },
  {
   "cell_type": "code",
   "execution_count": 13,
   "id": "88dea61a-a8b5-4da1-9795-5b81a1df1fba",
   "metadata": {},
   "outputs": [
    {
     "data": {
      "text/plain": [
       "-1.0"
      ]
     },
     "execution_count": 13,
     "metadata": {},
     "output_type": "execute_result"
    }
   ],
   "source": [
    "z_cal=(149-150)/(2/np.sqrt(4))\n",
    "z_cal\n"
   ]
  },
  {
   "cell_type": "code",
   "execution_count": 14,
   "id": "75268d3e-d78d-4b35-885e-88a1079a2924",
   "metadata": {},
   "outputs": [
    {
     "data": {
      "text/plain": [
       "0.15865525393145707"
      ]
     },
     "execution_count": 14,
     "metadata": {},
     "output_type": "execute_result"
    }
   ],
   "source": [
    "from scipy import stats\n",
    "stats.norm.cdf(-1.0)"
   ]
  },
  {
   "cell_type": "markdown",
   "id": "a8e79ce9-3af3-4c76-99dd-7644ca648e0d",
   "metadata": {},
   "source": [
    "p>alpha\n",
    "null high accept h0 "
   ]
  },
  {
   "cell_type": "markdown",
   "id": "2c5caaf9-ce56-41d8-b823-8befb4714545",
   "metadata": {},
   "source": [
    "\n",
    "# two tail  "
   ]
  },
  {
   "cell_type": "markdown",
   "id": "d4e2b33d-ddae-4660-9d1f-ccd03b757795",
   "metadata": {},
   "source": [
    "two tail=2*right tail  \n",
    "# milk can"
   ]
  },
  {
   "cell_type": "code",
   "execution_count": 19,
   "id": "865f04a1-5262-4206-b354-b9979d12c855",
   "metadata": {},
   "outputs": [
    {
     "data": {
      "text/plain": [
       "2.7386127875258306"
      ]
     },
     "execution_count": 19,
     "metadata": {},
     "output_type": "execute_result"
    }
   ],
   "source": [
    "z=(505-500)/(10/np.sqrt(30))\n",
    "z"
   ]
  },
  {
   "cell_type": "code",
   "execution_count": 22,
   "id": "e94d35a4-0479-4ceb-8165-bbdf15786ab4",
   "metadata": {},
   "outputs": [
    {
     "data": {
      "text/plain": [
       "0.0061698993205441255"
      ]
     },
     "execution_count": 22,
     "metadata": {},
     "output_type": "execute_result"
    }
   ],
   "source": [
    "from scipy import stats \n",
    "(1-stats.norm.cdf(z))*2"
   ]
  },
  {
   "cell_type": "markdown",
   "id": "3f5065b3-cb1b-4321-a2e1-3b75a4969b1f",
   "metadata": {},
   "source": [
    "p<alpha reject ho"
   ]
  },
  {
   "cell_type": "raw",
   "id": "e2f6bc03-a90f-474e-ba8a-13b421013232",
   "metadata": {},
   "source": []
  },
  {
   "cell_type": "markdown",
   "id": "a0dd2f04-bd04-48b9-9e15-5e27d2df2fba",
   "metadata": {},
   "source": [
    "# 1 sample ztest"
   ]
  },
  {
   "cell_type": "code",
   "execution_count": 26,
   "id": "cf33f9e3-db9b-420c-ab15-04b3f55d9ce5",
   "metadata": {},
   "outputs": [],
   "source": [
    " import pandas as pd"
   ]
  },
  {
   "cell_type": "code",
   "execution_count": 28,
   "id": "6db0da3c-a996-41e0-89a6-49cf15954388",
   "metadata": {},
   "outputs": [
    {
     "data": {
      "text/html": [
       "<div>\n",
       "<style scoped>\n",
       "    .dataframe tbody tr th:only-of-type {\n",
       "        vertical-align: middle;\n",
       "    }\n",
       "\n",
       "    .dataframe tbody tr th {\n",
       "        vertical-align: top;\n",
       "    }\n",
       "\n",
       "    .dataframe thead th {\n",
       "        text-align: right;\n",
       "    }\n",
       "</style>\n",
       "<table border=\"1\" class=\"dataframe\">\n",
       "  <thead>\n",
       "    <tr style=\"text-align: right;\">\n",
       "      <th></th>\n",
       "      <th>Fabric_length</th>\n",
       "    </tr>\n",
       "  </thead>\n",
       "  <tbody>\n",
       "    <tr>\n",
       "      <th>0</th>\n",
       "      <td>151.2</td>\n",
       "    </tr>\n",
       "    <tr>\n",
       "      <th>1</th>\n",
       "      <td>160.3</td>\n",
       "    </tr>\n",
       "    <tr>\n",
       "      <th>2</th>\n",
       "      <td>147.5</td>\n",
       "    </tr>\n",
       "    <tr>\n",
       "      <th>3</th>\n",
       "      <td>149.2</td>\n",
       "    </tr>\n",
       "    <tr>\n",
       "      <th>4</th>\n",
       "      <td>159.2</td>\n",
       "    </tr>\n",
       "    <tr>\n",
       "      <th>5</th>\n",
       "      <td>155.6</td>\n",
       "    </tr>\n",
       "    <tr>\n",
       "      <th>6</th>\n",
       "      <td>148.1</td>\n",
       "    </tr>\n",
       "    <tr>\n",
       "      <th>7</th>\n",
       "      <td>154.8</td>\n",
       "    </tr>\n",
       "    <tr>\n",
       "      <th>8</th>\n",
       "      <td>156.8</td>\n",
       "    </tr>\n",
       "    <tr>\n",
       "      <th>9</th>\n",
       "      <td>167.5</td>\n",
       "    </tr>\n",
       "    <tr>\n",
       "      <th>10</th>\n",
       "      <td>164.5</td>\n",
       "    </tr>\n",
       "    <tr>\n",
       "      <th>11</th>\n",
       "      <td>147.9</td>\n",
       "    </tr>\n",
       "    <tr>\n",
       "      <th>12</th>\n",
       "      <td>154.1</td>\n",
       "    </tr>\n",
       "    <tr>\n",
       "      <th>13</th>\n",
       "      <td>159.4</td>\n",
       "    </tr>\n",
       "    <tr>\n",
       "      <th>14</th>\n",
       "      <td>147.5</td>\n",
       "    </tr>\n",
       "    <tr>\n",
       "      <th>15</th>\n",
       "      <td>148.2</td>\n",
       "    </tr>\n",
       "    <tr>\n",
       "      <th>16</th>\n",
       "      <td>154.2</td>\n",
       "    </tr>\n",
       "    <tr>\n",
       "      <th>17</th>\n",
       "      <td>148.1</td>\n",
       "    </tr>\n",
       "    <tr>\n",
       "      <th>18</th>\n",
       "      <td>163.1</td>\n",
       "    </tr>\n",
       "    <tr>\n",
       "      <th>19</th>\n",
       "      <td>155.2</td>\n",
       "    </tr>\n",
       "    <tr>\n",
       "      <th>20</th>\n",
       "      <td>154.6</td>\n",
       "    </tr>\n",
       "    <tr>\n",
       "      <th>21</th>\n",
       "      <td>155.4</td>\n",
       "    </tr>\n",
       "    <tr>\n",
       "      <th>22</th>\n",
       "      <td>158.2</td>\n",
       "    </tr>\n",
       "    <tr>\n",
       "      <th>23</th>\n",
       "      <td>157.6</td>\n",
       "    </tr>\n",
       "    <tr>\n",
       "      <th>24</th>\n",
       "      <td>158.4</td>\n",
       "    </tr>\n",
       "  </tbody>\n",
       "</table>\n",
       "</div>"
      ],
      "text/plain": [
       "    Fabric_length\n",
       "0           151.2\n",
       "1           160.3\n",
       "2           147.5\n",
       "3           149.2\n",
       "4           159.2\n",
       "5           155.6\n",
       "6           148.1\n",
       "7           154.8\n",
       "8           156.8\n",
       "9           167.5\n",
       "10          164.5\n",
       "11          147.9\n",
       "12          154.1\n",
       "13          159.4\n",
       "14          147.5\n",
       "15          148.2\n",
       "16          154.2\n",
       "17          148.1\n",
       "18          163.1\n",
       "19          155.2\n",
       "20          154.6\n",
       "21          155.4\n",
       "22          158.2\n",
       "23          157.6\n",
       "24          158.4"
      ]
     },
     "execution_count": 28,
     "metadata": {},
     "output_type": "execute_result"
    }
   ],
   "source": [
    "df=pd.read_excel('Fabric data.xlsx')\n",
    "df\n"
   ]
  },
  {
   "cell_type": "code",
   "execution_count": 30,
   "id": "eb3ed62b-aa7d-493a-a3d9-652dd9572b28",
   "metadata": {},
   "outputs": [
    {
     "data": {
      "text/plain": [
       "Index(['Fabric_length'], dtype='object')"
      ]
     },
     "execution_count": 30,
     "metadata": {},
     "output_type": "execute_result"
    }
   ],
   "source": [
    "df.columns"
   ]
  },
  {
   "cell_type": "code",
   "execution_count": 31,
   "id": "f101ec23-e836-4799-8761-d023a41c25cd",
   "metadata": {},
   "outputs": [
    {
     "data": {
      "text/plain": [
       "0.29650632012590666"
      ]
     },
     "execution_count": 31,
     "metadata": {},
     "output_type": "execute_result"
    }
   ],
   "source": [
    "df['Fabric_length'].skew()"
   ]
  },
  {
   "cell_type": "code",
   "execution_count": 33,
   "id": "92468da8-b1a6-4066-af8a-810e73cb0438",
   "metadata": {},
   "outputs": [
    {
     "data": {
      "text/plain": [
       "155.064"
      ]
     },
     "execution_count": 33,
     "metadata": {},
     "output_type": "execute_result"
    }
   ],
   "source": [
    "df['Fabric_length'].mean()"
   ]
  },
  {
   "cell_type": "code",
   "execution_count": 35,
   "id": "6cfebb0c-019e-4c65-bc37-52a1471036cd",
   "metadata": {},
   "outputs": [
    {
     "data": {
      "text/plain": [
       "6.325000000000003"
      ]
     },
     "execution_count": 35,
     "metadata": {},
     "output_type": "execute_result"
    }
   ],
   "source": [
    "z=(155.06-150)/(4/np.sqrt(25))\n",
    "z"
   ]
  },
  {
   "cell_type": "code",
   "execution_count": 36,
   "id": "d78f8ab5-0651-43bc-be86-c80ae1ab5ec9",
   "metadata": {},
   "outputs": [
    {
     "data": {
      "text/plain": [
       "0.9999999998733837"
      ]
     },
     "execution_count": 36,
     "metadata": {},
     "output_type": "execute_result"
    }
   ],
   "source": [
    "from scipy import stats\n",
    "stats.norm.cdf(z)"
   ]
  },
  {
   "cell_type": "raw",
   "id": "0158261d-088c-4da1-bc5b-22a77efd5a84",
   "metadata": {},
   "source": [
    "p>alpha\n",
    "accept h0"
   ]
  },
  {
   "cell_type": "markdown",
   "id": "d5351bd5-3858-4824-bd66-af53a6a3e984",
   "metadata": {},
   "source": [
    " # 1 sample T-test"
   ]
  },
  {
   "cell_type": "code",
   "execution_count": 38,
   "id": "9fd60560-db68-4619-8264-f5f115919d3b",
   "metadata": {},
   "outputs": [
    {
     "data": {
      "text/html": [
       "<div>\n",
       "<style scoped>\n",
       "    .dataframe tbody tr th:only-of-type {\n",
       "        vertical-align: middle;\n",
       "    }\n",
       "\n",
       "    .dataframe tbody tr th {\n",
       "        vertical-align: top;\n",
       "    }\n",
       "\n",
       "    .dataframe thead th {\n",
       "        text-align: right;\n",
       "    }\n",
       "</style>\n",
       "<table border=\"1\" class=\"dataframe\">\n",
       "  <thead>\n",
       "    <tr style=\"text-align: right;\">\n",
       "      <th></th>\n",
       "      <th>Diameter</th>\n",
       "    </tr>\n",
       "  </thead>\n",
       "  <tbody>\n",
       "    <tr>\n",
       "      <th>0</th>\n",
       "      <td>10.02</td>\n",
       "    </tr>\n",
       "    <tr>\n",
       "      <th>1</th>\n",
       "      <td>10.00</td>\n",
       "    </tr>\n",
       "    <tr>\n",
       "      <th>2</th>\n",
       "      <td>9.98</td>\n",
       "    </tr>\n",
       "    <tr>\n",
       "      <th>3</th>\n",
       "      <td>9.99</td>\n",
       "    </tr>\n",
       "    <tr>\n",
       "      <th>4</th>\n",
       "      <td>10.01</td>\n",
       "    </tr>\n",
       "    <tr>\n",
       "      <th>5</th>\n",
       "      <td>10.02</td>\n",
       "    </tr>\n",
       "    <tr>\n",
       "      <th>6</th>\n",
       "      <td>10.01</td>\n",
       "    </tr>\n",
       "    <tr>\n",
       "      <th>7</th>\n",
       "      <td>10.00</td>\n",
       "    </tr>\n",
       "    <tr>\n",
       "      <th>8</th>\n",
       "      <td>10.00</td>\n",
       "    </tr>\n",
       "    <tr>\n",
       "      <th>9</th>\n",
       "      <td>9.98</td>\n",
       "    </tr>\n",
       "    <tr>\n",
       "      <th>10</th>\n",
       "      <td>10.00</td>\n",
       "    </tr>\n",
       "    <tr>\n",
       "      <th>11</th>\n",
       "      <td>9.99</td>\n",
       "    </tr>\n",
       "    <tr>\n",
       "      <th>12</th>\n",
       "      <td>10.00</td>\n",
       "    </tr>\n",
       "    <tr>\n",
       "      <th>13</th>\n",
       "      <td>10.00</td>\n",
       "    </tr>\n",
       "    <tr>\n",
       "      <th>14</th>\n",
       "      <td>10.00</td>\n",
       "    </tr>\n",
       "    <tr>\n",
       "      <th>15</th>\n",
       "      <td>10.00</td>\n",
       "    </tr>\n",
       "    <tr>\n",
       "      <th>16</th>\n",
       "      <td>10.00</td>\n",
       "    </tr>\n",
       "    <tr>\n",
       "      <th>17</th>\n",
       "      <td>10.00</td>\n",
       "    </tr>\n",
       "    <tr>\n",
       "      <th>18</th>\n",
       "      <td>10.00</td>\n",
       "    </tr>\n",
       "    <tr>\n",
       "      <th>19</th>\n",
       "      <td>10.00</td>\n",
       "    </tr>\n",
       "  </tbody>\n",
       "</table>\n",
       "</div>"
      ],
      "text/plain": [
       "    Diameter\n",
       "0      10.02\n",
       "1      10.00\n",
       "2       9.98\n",
       "3       9.99\n",
       "4      10.01\n",
       "5      10.02\n",
       "6      10.01\n",
       "7      10.00\n",
       "8      10.00\n",
       "9       9.98\n",
       "10     10.00\n",
       "11      9.99\n",
       "12     10.00\n",
       "13     10.00\n",
       "14     10.00\n",
       "15     10.00\n",
       "16     10.00\n",
       "17     10.00\n",
       "18     10.00\n",
       "19     10.00"
      ]
     },
     "execution_count": 38,
     "metadata": {},
     "output_type": "execute_result"
    }
   ],
   "source": [
    "df=pd.read_excel('Bolt diameter.xlsx')\n",
    "df"
   ]
  },
  {
   "cell_type": "code",
   "execution_count": 39,
   "id": "089b3106-7447-4e51-a870-920ab64bee0e",
   "metadata": {},
   "outputs": [
    {
     "data": {
      "text/plain": [
       "0.0"
      ]
     },
     "execution_count": 39,
     "metadata": {},
     "output_type": "execute_result"
    }
   ],
   "source": [
    "df['Diameter'].skew()"
   ]
  },
  {
   "cell_type": "code",
   "execution_count": 42,
   "id": "af6dccad-1727-45a6-b82c-ca4a4f4b7b07",
   "metadata": {},
   "outputs": [
    {
     "data": {
      "text/plain": [
       "TtestResult(statistic=-3923.00904918669, pvalue=1.3373311453595586e-57, df=19)"
      ]
     },
     "execution_count": 42,
     "metadata": {},
     "output_type": "execute_result"
    }
   ],
   "source": [
    "# direct function is there otherwise do before sum\n",
    "from scipy import stats\n",
    "\n",
    "stats.ttest_1samp(df['Diameter'], 19)\n"
   ]
  },
  {
   "cell_type": "markdown",
   "id": "9c86c209-f8f7-4dc4-88c5-1fdfeac93ebe",
   "metadata": {},
   "source": [
    "p>alpha accept h0"
   ]
  },
  {
   "cell_type": "markdown",
   "id": "c5d04f1c-7d13-4123-a2fb-54c29d1f2ff9",
   "metadata": {},
   "source": [
    "# 2-sample T -test"
   ]
  },
  {
   "cell_type": "markdown",
   "id": "c1e8c6f8-1933-41aa-a3d6-e6fc9ccd2203",
   "metadata": {},
   "source": [
    "\n",
    "#### marketing stratagies"
   ]
  },
  {
   "cell_type": "markdown",
   "id": "18b130bc-ea4e-4a1f-855d-df3ea9a65803",
   "metadata": {},
   "source": [
    " other conditing checking the variance\n"
   ]
  },
  {
   "cell_type": "markdown",
   "id": "be0aa50d-4a90-4ece-b7c4-bdbfb1e40bf9",
   "metadata": {},
   "source": [
    "# ANOVA test "
   ]
  },
  {
   "cell_type": "code",
   "execution_count": 3,
   "id": "f28e75b1-2a26-43ab-a341-8c1370e99302",
   "metadata": {},
   "outputs": [],
   "source": [
    "df=pd.read_excel('Contract Renewal.xlsx')"
   ]
  },
  {
   "cell_type": "code",
   "execution_count": 4,
   "id": "2c679b6a-bc20-429a-b3c6-1e04b3a8d9ec",
   "metadata": {},
   "outputs": [
    {
     "data": {
      "text/plain": [
       "Index(['SupplierA', 'SupplierB', 'SupplierC'], dtype='object')"
      ]
     },
     "execution_count": 4,
     "metadata": {},
     "output_type": "execute_result"
    }
   ],
   "source": [
    "df.columns"
   ]
  },
  {
   "cell_type": "code",
   "execution_count": 6,
   "id": "93997b32-c067-48c6-82dd-8836b8ed6624",
   "metadata": {},
   "outputs": [
    {
     "data": {
      "text/plain": [
       "0.12032960598073747"
      ]
     },
     "execution_count": 6,
     "metadata": {},
     "output_type": "execute_result"
    }
   ],
   "source": [
    "df['SupplierA'].skew()"
   ]
  },
  {
   "cell_type": "code",
   "execution_count": 7,
   "id": "a4560002-2fba-4554-b974-ffe26503acb0",
   "metadata": {},
   "outputs": [
    {
     "data": {
      "text/plain": [
       "-0.06982967935882636"
      ]
     },
     "execution_count": 7,
     "metadata": {},
     "output_type": "execute_result"
    }
   ],
   "source": [
    "df['SupplierB'].skew()"
   ]
  },
  {
   "cell_type": "code",
   "execution_count": 9,
   "id": "c90ed073-cc89-495f-8043-7b1d4e7ff741",
   "metadata": {},
   "outputs": [
    {
     "data": {
      "text/plain": [
       "0.25116833883092665"
      ]
     },
     "execution_count": 9,
     "metadata": {},
     "output_type": "execute_result"
    }
   ],
   "source": [
    "df['SupplierC'].skew()"
   ]
  },
  {
   "cell_type": "code",
   "execution_count": 11,
   "id": "b734ffc9-1f6d-4ea1-9aa2-dcac8be03b9e",
   "metadata": {},
   "outputs": [
    {
     "data": {
      "text/plain": [
       "LeveneResult(statistic=0.25183988720942463, pvalue=0.7775071819400866)"
      ]
     },
     "execution_count": 11,
     "metadata": {},
     "output_type": "execute_result"
    }
   ],
   "source": [
    "from scipy import stats\n",
    "stats.levene(df['SupplierA'],df['SupplierB'],df['SupplierC'])"
   ]
  },
  {
   "cell_type": "code",
   "execution_count": 12,
   "id": "c5c2e9cf-276a-4848-9ceb-6e66d3bade6c",
   "metadata": {},
   "outputs": [
    {
     "data": {
      "text/plain": [
       "F_onewayResult(statistic=2.280378701368123, pvalue=0.10373295731933224)"
      ]
     },
     "execution_count": 12,
     "metadata": {},
     "output_type": "execute_result"
    }
   ],
   "source": [
    "stats.f_oneway(df['SupplierA'], df['SupplierB'], df['SupplierC'])"
   ]
  },
  {
   "cell_type": "markdown",
   "id": "6d44d71a-60e9-4a81-a94e-4c2d12118380",
   "metadata": {},
   "source": [
    "p>alpha accept h0"
   ]
  },
  {
   "cell_type": "markdown",
   "id": "ff1e8052-1c7d-4f1e-9d02-d71c5111398a",
   "metadata": {},
   "source": [
    "# 1 proportion test"
   ]
  },
  {
   "cell_type": "code",
   "execution_count": 14,
   "id": "b589ab3b-3403-4e74-98ee-4393c790759f",
   "metadata": {},
   "outputs": [
    {
     "data": {
      "text/plain": [
       "BinomTestResult(k=482, n=2000, alternative='two-sided', statistic=0.241, pvalue=0.36615115821828914)"
      ]
     },
     "execution_count": 14,
     "metadata": {},
     "output_type": "execute_result"
    }
   ],
   "source": [
    "stats.binomtest(482,2000,0.25)"
   ]
  },
  {
   "cell_type": "markdown",
   "id": "b5411eb6-7238-4299-a02b-b1060028a79a",
   "metadata": {},
   "source": [
    "# 2 proposition test"
   ]
  },
  {
   "cell_type": "code",
   "execution_count": 28,
   "id": "3b2353f4-a67d-4d7f-b635-a930d9ae0526",
   "metadata": {},
   "outputs": [],
   "source": [
    "df=pd.read_excel(r\"C:\\Users\\hp\\OneDrive\\Documents\\JohnyTalkers.xlsx\")"
   ]
  },
  {
   "cell_type": "code",
   "execution_count": 29,
   "id": "b0b1d236-2f70-471d-bd4a-cf76513fce6d",
   "metadata": {},
   "outputs": [
    {
     "data": {
      "text/html": [
       "<div>\n",
       "<style scoped>\n",
       "    .dataframe tbody tr th:only-of-type {\n",
       "        vertical-align: middle;\n",
       "    }\n",
       "\n",
       "    .dataframe tbody tr th {\n",
       "        vertical-align: top;\n",
       "    }\n",
       "\n",
       "    .dataframe thead th {\n",
       "        text-align: right;\n",
       "    }\n",
       "</style>\n",
       "<table border=\"1\" class=\"dataframe\">\n",
       "  <thead>\n",
       "    <tr style=\"text-align: right;\">\n",
       "      <th></th>\n",
       "      <th>Person</th>\n",
       "      <th>Drinks</th>\n",
       "    </tr>\n",
       "  </thead>\n",
       "  <tbody>\n",
       "    <tr>\n",
       "      <th>0</th>\n",
       "      <td>Adults</td>\n",
       "      <td>Did Not Purchase</td>\n",
       "    </tr>\n",
       "    <tr>\n",
       "      <th>1</th>\n",
       "      <td>Adults</td>\n",
       "      <td>Did Not Purchase</td>\n",
       "    </tr>\n",
       "    <tr>\n",
       "      <th>2</th>\n",
       "      <td>Adults</td>\n",
       "      <td>Did Not Purchase</td>\n",
       "    </tr>\n",
       "    <tr>\n",
       "      <th>3</th>\n",
       "      <td>Adults</td>\n",
       "      <td>Did Not Purchase</td>\n",
       "    </tr>\n",
       "    <tr>\n",
       "      <th>4</th>\n",
       "      <td>Adults</td>\n",
       "      <td>Did Not Purchase</td>\n",
       "    </tr>\n",
       "    <tr>\n",
       "      <th>...</th>\n",
       "      <td>...</td>\n",
       "      <td>...</td>\n",
       "    </tr>\n",
       "    <tr>\n",
       "      <th>1215</th>\n",
       "      <td>Children</td>\n",
       "      <td>Did Not Purchase</td>\n",
       "    </tr>\n",
       "    <tr>\n",
       "      <th>1216</th>\n",
       "      <td>Children</td>\n",
       "      <td>Did Not Purchase</td>\n",
       "    </tr>\n",
       "    <tr>\n",
       "      <th>1217</th>\n",
       "      <td>Children</td>\n",
       "      <td>Did Not Purchase</td>\n",
       "    </tr>\n",
       "    <tr>\n",
       "      <th>1218</th>\n",
       "      <td>Children</td>\n",
       "      <td>Did Not Purchase</td>\n",
       "    </tr>\n",
       "    <tr>\n",
       "      <th>1219</th>\n",
       "      <td>Children</td>\n",
       "      <td>Purchased</td>\n",
       "    </tr>\n",
       "  </tbody>\n",
       "</table>\n",
       "<p>1220 rows × 2 columns</p>\n",
       "</div>"
      ],
      "text/plain": [
       "        Person            Drinks\n",
       "0       Adults  Did Not Purchase\n",
       "1       Adults  Did Not Purchase\n",
       "2       Adults  Did Not Purchase\n",
       "3       Adults  Did Not Purchase\n",
       "4       Adults  Did Not Purchase\n",
       "...        ...               ...\n",
       "1215  Children  Did Not Purchase\n",
       "1216  Children  Did Not Purchase\n",
       "1217  Children  Did Not Purchase\n",
       "1218  Children  Did Not Purchase\n",
       "1219  Children         Purchased\n",
       "\n",
       "[1220 rows x 2 columns]"
      ]
     },
     "execution_count": 29,
     "metadata": {},
     "output_type": "execute_result"
    }
   ],
   "source": [
    "df"
   ]
  },
  {
   "cell_type": "code",
   "execution_count": 17,
   "id": "5a51aea4-4afd-4c59-a163-93dfe2e3515b",
   "metadata": {},
   "outputs": [
    {
     "data": {
      "text/plain": [
       "Index(['Person', 'Drinks'], dtype='object')"
      ]
     },
     "execution_count": 17,
     "metadata": {},
     "output_type": "execute_result"
    }
   ],
   "source": [
    "df.columns"
   ]
  },
  {
   "cell_type": "code",
   "execution_count": 18,
   "id": "7dfc664f-5427-48a9-b7bf-9cac92103861",
   "metadata": {},
   "outputs": [
    {
     "data": {
      "text/plain": [
       "Person\n",
       "Children    740\n",
       "Adults      480\n",
       "Name: count, dtype: int64"
      ]
     },
     "execution_count": 18,
     "metadata": {},
     "output_type": "execute_result"
    }
   ],
   "source": [
    "df['Person'].value_counts()"
   ]
  },
  {
   "cell_type": "code",
   "execution_count": 19,
   "id": "3884dae4-7d22-41ae-96d1-f91688827926",
   "metadata": {},
   "outputs": [
    {
     "data": {
      "text/plain": [
       "Drinks\n",
       "Did Not Purchase    1010\n",
       "Purchased            210\n",
       "Name: count, dtype: int64"
      ]
     },
     "execution_count": 19,
     "metadata": {},
     "output_type": "execute_result"
    }
   ],
   "source": [
    "df['Drinks'].value_counts()"
   ]
  },
  {
   "cell_type": "code",
   "execution_count": 21,
   "id": "92a9d926-e7db-4d4b-b57f-e220c77e3214",
   "metadata": {},
   "outputs": [
    {
     "data": {
      "text/html": [
       "<div>\n",
       "<style scoped>\n",
       "    .dataframe tbody tr th:only-of-type {\n",
       "        vertical-align: middle;\n",
       "    }\n",
       "\n",
       "    .dataframe tbody tr th {\n",
       "        vertical-align: top;\n",
       "    }\n",
       "\n",
       "    .dataframe thead th {\n",
       "        text-align: right;\n",
       "    }\n",
       "</style>\n",
       "<table border=\"1\" class=\"dataframe\">\n",
       "  <thead>\n",
       "    <tr style=\"text-align: right;\">\n",
       "      <th>Drinks</th>\n",
       "      <th>Did Not Purchase</th>\n",
       "      <th>Purchased</th>\n",
       "    </tr>\n",
       "    <tr>\n",
       "      <th>Person</th>\n",
       "      <th></th>\n",
       "      <th></th>\n",
       "    </tr>\n",
       "  </thead>\n",
       "  <tbody>\n",
       "    <tr>\n",
       "      <th>Adults</th>\n",
       "      <td>422</td>\n",
       "      <td>58</td>\n",
       "    </tr>\n",
       "    <tr>\n",
       "      <th>Children</th>\n",
       "      <td>588</td>\n",
       "      <td>152</td>\n",
       "    </tr>\n",
       "  </tbody>\n",
       "</table>\n",
       "</div>"
      ],
      "text/plain": [
       "Drinks    Did Not Purchase  Purchased\n",
       "Person                               \n",
       "Adults                 422         58\n",
       "Children               588        152"
      ]
     },
     "execution_count": 21,
     "metadata": {},
     "output_type": "execute_result"
    }
   ],
   "source": [
    "pd.crosstab(df['Person'],df['Drinks'])"
   ]
  },
  {
   "cell_type": "code",
   "execution_count": 24,
   "id": "f58cf93e-0c1f-496e-a9a1-64dc68225722",
   "metadata": {},
   "outputs": [
    {
     "data": {
      "text/plain": [
       "(-3.8227247718795447, 0.00013198507287726183)"
      ]
     },
     "execution_count": 24,
     "metadata": {},
     "output_type": "execute_result"
    }
   ],
   "source": [
    "from statsmodels.stats.proportion import proportions_ztest\n",
    "import numpy as np\n",
    "\n",
    "# Correct way to create numpy arrays\n",
    "purchased = np.array([58, 152])  # Number of successes\n",
    "total = np.array([480, 740])     # Number of trials\n",
    "\n",
    "# Perform the z-test for two proportions\n",
    "z_stat, p_value = proportions_ztest(purchased, total)\n",
    "\n",
    "print(f\"Z-statistic: {z_stat:.4f}\")\n",
    "print(f\"P-value: {p_value:.4f}\")"
   ]
  },
  {
   "cell_type": "raw",
   "id": "a4c70416-ab0d-4be7-afcc-6f649f75dc28",
   "metadata": {},
   "source": [
    "p<alpha"
   ]
  },
  {
   "cell_type": "markdown",
   "id": "019191bc-3303-4e09-ae07-5fc10f2e056d",
   "metadata": {},
   "source": [
    "# chisquare_test"
   ]
  },
  {
   "cell_type": "code",
   "execution_count": 30,
   "id": "fddc524a-9031-4784-b96f-d8977b77b35d",
   "metadata": {},
   "outputs": [],
   "source": [
    "df=pd.read_excel(r\"C:\\Users\\hp\\OneDrive\\Documents\\Bahaman.xlsx\")"
   ]
  },
  {
   "cell_type": "code",
   "execution_count": 26,
   "id": "e8b8b22c-0a87-4347-b465-6936c1bf031f",
   "metadata": {},
   "outputs": [
    {
     "data": {
      "text/plain": [
       "Index(['Defective', 'Country'], dtype='object')"
      ]
     },
     "execution_count": 26,
     "metadata": {},
     "output_type": "execute_result"
    }
   ],
   "source": [
    "df.columns"
   ]
  },
  {
   "cell_type": "code",
   "execution_count": 27,
   "id": "a5ea4655-555d-4d4f-a3e7-61b06399c535",
   "metadata": {},
   "outputs": [
    {
     "data": {
      "text/html": [
       "<div>\n",
       "<style scoped>\n",
       "    .dataframe tbody tr th:only-of-type {\n",
       "        vertical-align: middle;\n",
       "    }\n",
       "\n",
       "    .dataframe tbody tr th {\n",
       "        vertical-align: top;\n",
       "    }\n",
       "\n",
       "    .dataframe thead th {\n",
       "        text-align: right;\n",
       "    }\n",
       "</style>\n",
       "<table border=\"1\" class=\"dataframe\">\n",
       "  <thead>\n",
       "    <tr style=\"text-align: right;\">\n",
       "      <th></th>\n",
       "      <th>Defective</th>\n",
       "      <th>Country</th>\n",
       "    </tr>\n",
       "  </thead>\n",
       "  <tbody>\n",
       "    <tr>\n",
       "      <th>0</th>\n",
       "      <td>0</td>\n",
       "      <td>India</td>\n",
       "    </tr>\n",
       "    <tr>\n",
       "      <th>1</th>\n",
       "      <td>0</td>\n",
       "      <td>India</td>\n",
       "    </tr>\n",
       "    <tr>\n",
       "      <th>2</th>\n",
       "      <td>0</td>\n",
       "      <td>India</td>\n",
       "    </tr>\n",
       "    <tr>\n",
       "      <th>3</th>\n",
       "      <td>0</td>\n",
       "      <td>India</td>\n",
       "    </tr>\n",
       "    <tr>\n",
       "      <th>4</th>\n",
       "      <td>1</td>\n",
       "      <td>India</td>\n",
       "    </tr>\n",
       "    <tr>\n",
       "      <th>...</th>\n",
       "      <td>...</td>\n",
       "      <td>...</td>\n",
       "    </tr>\n",
       "    <tr>\n",
       "      <th>795</th>\n",
       "      <td>0</td>\n",
       "      <td>Bangladesh</td>\n",
       "    </tr>\n",
       "    <tr>\n",
       "      <th>796</th>\n",
       "      <td>0</td>\n",
       "      <td>Bangladesh</td>\n",
       "    </tr>\n",
       "    <tr>\n",
       "      <th>797</th>\n",
       "      <td>1</td>\n",
       "      <td>Bangladesh</td>\n",
       "    </tr>\n",
       "    <tr>\n",
       "      <th>798</th>\n",
       "      <td>0</td>\n",
       "      <td>Bangladesh</td>\n",
       "    </tr>\n",
       "    <tr>\n",
       "      <th>799</th>\n",
       "      <td>0</td>\n",
       "      <td>Bangladesh</td>\n",
       "    </tr>\n",
       "  </tbody>\n",
       "</table>\n",
       "<p>800 rows × 2 columns</p>\n",
       "</div>"
      ],
      "text/plain": [
       "     Defective     Country\n",
       "0            0       India\n",
       "1            0       India\n",
       "2            0       India\n",
       "3            0       India\n",
       "4            1       India\n",
       "..         ...         ...\n",
       "795          0  Bangladesh\n",
       "796          0  Bangladesh\n",
       "797          1  Bangladesh\n",
       "798          0  Bangladesh\n",
       "799          0  Bangladesh\n",
       "\n",
       "[800 rows x 2 columns]"
      ]
     },
     "execution_count": 27,
     "metadata": {},
     "output_type": "execute_result"
    }
   ],
   "source": [
    "df"
   ]
  },
  {
   "cell_type": "code",
   "execution_count": 32,
   "id": "39ca0318-3f81-4fe9-b679-fd28e8e04578",
   "metadata": {},
   "outputs": [],
   "source": [
    "c=pd.crosstab(df['Defective'],df['Country'])"
   ]
  },
  {
   "cell_type": "code",
   "execution_count": 33,
   "id": "e111edf1-5d29-480e-9ea8-ec467b5d4d27",
   "metadata": {},
   "outputs": [
    {
     "data": {
      "text/html": [
       "<div>\n",
       "<style scoped>\n",
       "    .dataframe tbody tr th:only-of-type {\n",
       "        vertical-align: middle;\n",
       "    }\n",
       "\n",
       "    .dataframe tbody tr th {\n",
       "        vertical-align: top;\n",
       "    }\n",
       "\n",
       "    .dataframe thead th {\n",
       "        text-align: right;\n",
       "    }\n",
       "</style>\n",
       "<table border=\"1\" class=\"dataframe\">\n",
       "  <thead>\n",
       "    <tr style=\"text-align: right;\">\n",
       "      <th>Country</th>\n",
       "      <th>Bangladesh</th>\n",
       "      <th>China</th>\n",
       "      <th>India</th>\n",
       "      <th>Srilanka</th>\n",
       "    </tr>\n",
       "    <tr>\n",
       "      <th>Defective</th>\n",
       "      <th></th>\n",
       "      <th></th>\n",
       "      <th></th>\n",
       "      <th></th>\n",
       "    </tr>\n",
       "  </thead>\n",
       "  <tbody>\n",
       "    <tr>\n",
       "      <th>0</th>\n",
       "      <td>183</td>\n",
       "      <td>179</td>\n",
       "      <td>175</td>\n",
       "      <td>178</td>\n",
       "    </tr>\n",
       "    <tr>\n",
       "      <th>1</th>\n",
       "      <td>17</td>\n",
       "      <td>21</td>\n",
       "      <td>25</td>\n",
       "      <td>22</td>\n",
       "    </tr>\n",
       "  </tbody>\n",
       "</table>\n",
       "</div>"
      ],
      "text/plain": [
       "Country    Bangladesh  China  India  Srilanka\n",
       "Defective                                    \n",
       "0                 183    179    175       178\n",
       "1                  17     21     25        22"
      ]
     },
     "execution_count": 33,
     "metadata": {},
     "output_type": "execute_result"
    }
   ],
   "source": [
    "c"
   ]
  },
  {
   "cell_type": "code",
   "execution_count": 34,
   "id": "05df2b8a-c960-4f30-8549-82db4645a0ac",
   "metadata": {},
   "outputs": [
    {
     "data": {
      "text/plain": [
       "Chi2ContingencyResult(statistic=1.7243932538050184, pvalue=0.6315243037546223, dof=3, expected_freq=array([[178.75, 178.75, 178.75, 178.75],\n",
       "       [ 21.25,  21.25,  21.25,  21.25]]))"
      ]
     },
     "execution_count": 34,
     "metadata": {},
     "output_type": "execute_result"
    }
   ],
   "source": [
    "stats.chi2_contingency(c)"
   ]
  },
  {
   "cell_type": "raw",
   "id": "270f46de-d7eb-4abe-bd98-e973458cecf4",
   "metadata": {},
   "source": [
    "p>alpha accept ho"
   ]
  }
 ],
 "metadata": {
  "kernelspec": {
   "display_name": "Python 3 (ipykernel)",
   "language": "python",
   "name": "python3"
  },
  "language_info": {
   "codemirror_mode": {
    "name": "ipython",
    "version": 3
   },
   "file_extension": ".py",
   "mimetype": "text/x-python",
   "name": "python",
   "nbconvert_exporter": "python",
   "pygments_lexer": "ipython3",
   "version": "3.12.4"
  }
 },
 "nbformat": 4,
 "nbformat_minor": 5
}
