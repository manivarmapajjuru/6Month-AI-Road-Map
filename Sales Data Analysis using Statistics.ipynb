{
 "cells": [
  {
   "cell_type": "code",
   "execution_count": 1,
   "id": "242395e0-c4ae-483b-97ab-e57b77ba8688",
   "metadata": {},
   "outputs": [],
   "source": [
    "import pandas as pd\n",
    "import matplotlib.pyplot as plt\n",
    "import numpy as np\n",
    "import seaborn as sns"
   ]
  },
  {
   "cell_type": "markdown",
   "id": "f2dc1107-ca96-44d0-8bc9-d137b9317e5f",
   "metadata": {},
   "source": [
    "# create the dataset"
   ]
  },
  {
   "cell_type": "code",
   "execution_count": 2,
   "id": "9e95d792-8ece-4c19-9198-52e4bd1a3802",
   "metadata": {},
   "outputs": [
    {
     "data": {
      "text/html": [
       "<div>\n",
       "<style scoped>\n",
       "    .dataframe tbody tr th:only-of-type {\n",
       "        vertical-align: middle;\n",
       "    }\n",
       "\n",
       "    .dataframe tbody tr th {\n",
       "        vertical-align: top;\n",
       "    }\n",
       "\n",
       "    .dataframe thead th {\n",
       "        text-align: right;\n",
       "    }\n",
       "</style>\n",
       "<table border=\"1\" class=\"dataframe\">\n",
       "  <thead>\n",
       "    <tr style=\"text-align: right;\">\n",
       "      <th></th>\n",
       "      <th>product_id</th>\n",
       "      <th>product_name</th>\n",
       "      <th>category</th>\n",
       "      <th>units_sold</th>\n",
       "      <th>sale_date</th>\n",
       "    </tr>\n",
       "  </thead>\n",
       "  <tbody>\n",
       "    <tr>\n",
       "      <th>0</th>\n",
       "      <td>1</td>\n",
       "      <td>Product 1</td>\n",
       "      <td>Home</td>\n",
       "      <td>25</td>\n",
       "      <td>2023-01-01</td>\n",
       "    </tr>\n",
       "    <tr>\n",
       "      <th>1</th>\n",
       "      <td>2</td>\n",
       "      <td>Product 2</td>\n",
       "      <td>Sports</td>\n",
       "      <td>15</td>\n",
       "      <td>2023-01-02</td>\n",
       "    </tr>\n",
       "    <tr>\n",
       "      <th>2</th>\n",
       "      <td>3</td>\n",
       "      <td>Product 3</td>\n",
       "      <td>Electronics</td>\n",
       "      <td>17</td>\n",
       "      <td>2023-01-03</td>\n",
       "    </tr>\n",
       "    <tr>\n",
       "      <th>3</th>\n",
       "      <td>4</td>\n",
       "      <td>Product 4</td>\n",
       "      <td>Home</td>\n",
       "      <td>19</td>\n",
       "      <td>2023-01-04</td>\n",
       "    </tr>\n",
       "    <tr>\n",
       "      <th>4</th>\n",
       "      <td>5</td>\n",
       "      <td>Product 5</td>\n",
       "      <td>Home</td>\n",
       "      <td>21</td>\n",
       "      <td>2023-01-05</td>\n",
       "    </tr>\n",
       "    <tr>\n",
       "      <th>5</th>\n",
       "      <td>6</td>\n",
       "      <td>Product 6</td>\n",
       "      <td>Sports</td>\n",
       "      <td>17</td>\n",
       "      <td>2023-01-06</td>\n",
       "    </tr>\n",
       "    <tr>\n",
       "      <th>6</th>\n",
       "      <td>7</td>\n",
       "      <td>Product 7</td>\n",
       "      <td>Electronics</td>\n",
       "      <td>19</td>\n",
       "      <td>2023-01-07</td>\n",
       "    </tr>\n",
       "    <tr>\n",
       "      <th>7</th>\n",
       "      <td>8</td>\n",
       "      <td>Product 8</td>\n",
       "      <td>Electronics</td>\n",
       "      <td>16</td>\n",
       "      <td>2023-01-08</td>\n",
       "    </tr>\n",
       "    <tr>\n",
       "      <th>8</th>\n",
       "      <td>9</td>\n",
       "      <td>Product 9</td>\n",
       "      <td>Home</td>\n",
       "      <td>21</td>\n",
       "      <td>2023-01-09</td>\n",
       "    </tr>\n",
       "    <tr>\n",
       "      <th>9</th>\n",
       "      <td>10</td>\n",
       "      <td>Product 10</td>\n",
       "      <td>Clothing</td>\n",
       "      <td>21</td>\n",
       "      <td>2023-01-10</td>\n",
       "    </tr>\n",
       "    <tr>\n",
       "      <th>10</th>\n",
       "      <td>11</td>\n",
       "      <td>Product 11</td>\n",
       "      <td>Home</td>\n",
       "      <td>17</td>\n",
       "      <td>2023-01-11</td>\n",
       "    </tr>\n",
       "    <tr>\n",
       "      <th>11</th>\n",
       "      <td>12</td>\n",
       "      <td>Product 12</td>\n",
       "      <td>Home</td>\n",
       "      <td>22</td>\n",
       "      <td>2023-01-12</td>\n",
       "    </tr>\n",
       "    <tr>\n",
       "      <th>12</th>\n",
       "      <td>13</td>\n",
       "      <td>Product 13</td>\n",
       "      <td>Home</td>\n",
       "      <td>14</td>\n",
       "      <td>2023-01-13</td>\n",
       "    </tr>\n",
       "    <tr>\n",
       "      <th>13</th>\n",
       "      <td>14</td>\n",
       "      <td>Product 14</td>\n",
       "      <td>Home</td>\n",
       "      <td>17</td>\n",
       "      <td>2023-01-14</td>\n",
       "    </tr>\n",
       "    <tr>\n",
       "      <th>14</th>\n",
       "      <td>15</td>\n",
       "      <td>Product 15</td>\n",
       "      <td>Sports</td>\n",
       "      <td>17</td>\n",
       "      <td>2023-01-15</td>\n",
       "    </tr>\n",
       "    <tr>\n",
       "      <th>15</th>\n",
       "      <td>16</td>\n",
       "      <td>Product 16</td>\n",
       "      <td>Electronics</td>\n",
       "      <td>21</td>\n",
       "      <td>2023-01-16</td>\n",
       "    </tr>\n",
       "    <tr>\n",
       "      <th>16</th>\n",
       "      <td>17</td>\n",
       "      <td>Product 17</td>\n",
       "      <td>Sports</td>\n",
       "      <td>21</td>\n",
       "      <td>2023-01-17</td>\n",
       "    </tr>\n",
       "    <tr>\n",
       "      <th>17</th>\n",
       "      <td>18</td>\n",
       "      <td>Product 18</td>\n",
       "      <td>Sports</td>\n",
       "      <td>13</td>\n",
       "      <td>2023-01-18</td>\n",
       "    </tr>\n",
       "    <tr>\n",
       "      <th>18</th>\n",
       "      <td>19</td>\n",
       "      <td>Product 19</td>\n",
       "      <td>Sports</td>\n",
       "      <td>18</td>\n",
       "      <td>2023-01-19</td>\n",
       "    </tr>\n",
       "    <tr>\n",
       "      <th>19</th>\n",
       "      <td>20</td>\n",
       "      <td>Product 20</td>\n",
       "      <td>Home</td>\n",
       "      <td>25</td>\n",
       "      <td>2023-01-20</td>\n",
       "    </tr>\n",
       "  </tbody>\n",
       "</table>\n",
       "</div>"
      ],
      "text/plain": [
       "    product_id product_name     category  units_sold  sale_date\n",
       "0            1    Product 1         Home          25 2023-01-01\n",
       "1            2    Product 2       Sports          15 2023-01-02\n",
       "2            3    Product 3  Electronics          17 2023-01-03\n",
       "3            4    Product 4         Home          19 2023-01-04\n",
       "4            5    Product 5         Home          21 2023-01-05\n",
       "5            6    Product 6       Sports          17 2023-01-06\n",
       "6            7    Product 7  Electronics          19 2023-01-07\n",
       "7            8    Product 8  Electronics          16 2023-01-08\n",
       "8            9    Product 9         Home          21 2023-01-09\n",
       "9           10   Product 10     Clothing          21 2023-01-10\n",
       "10          11   Product 11         Home          17 2023-01-11\n",
       "11          12   Product 12         Home          22 2023-01-12\n",
       "12          13   Product 13         Home          14 2023-01-13\n",
       "13          14   Product 14         Home          17 2023-01-14\n",
       "14          15   Product 15       Sports          17 2023-01-15\n",
       "15          16   Product 16  Electronics          21 2023-01-16\n",
       "16          17   Product 17       Sports          21 2023-01-17\n",
       "17          18   Product 18       Sports          13 2023-01-18\n",
       "18          19   Product 19       Sports          18 2023-01-19\n",
       "19          20   Product 20         Home          25 2023-01-20"
      ]
     },
     "execution_count": 2,
     "metadata": {},
     "output_type": "execute_result"
    }
   ],
   "source": [
    "np.random.seed(42)\n",
    "\n",
    "# Create a synthetic dataset\n",
    "data = {\n",
    "    'product_id': range(1, 21),\n",
    "    'product_name': [f'Product {i}' for i in range(1, 21)],\n",
    "    'category': np.random.choice(['Electronics', 'Clothing', 'Home', 'Sports'], 20),\n",
    "    'units_sold': np.random.poisson(lam=20, size=20),  # Poisson distribution for sales\n",
    "    'sale_date': pd.date_range(start='2023-01-01', periods=20, freq='D')\n",
    "}\n",
    "\n",
    "df_sales = pd.DataFrame(data)\n",
    "df_sales"
   ]
  },
  {
   "cell_type": "markdown",
   "id": "f4844c34-53ac-49ae-a297-6d04bcb3adc1",
   "metadata": {},
   "source": [
    "#### save the data as  a csv file"
   ]
  },
  {
   "cell_type": "code",
   "execution_count": 3,
   "id": "d8c6638c-952a-4468-864b-198b3153cb6d",
   "metadata": {},
   "outputs": [],
   "source": [
    "df_sales.to_csv('df_sales.csv',index=False)"
   ]
  },
  {
   "cell_type": "markdown",
   "id": "a7fce5e6-64e2-40e9-b2cc-66ad0561cb51",
   "metadata": {},
   "source": [
    "##### path location"
   ]
  },
  {
   "cell_type": "code",
   "execution_count": 4,
   "id": "df1e5223-a432-4dd3-8ee8-0ed8dc59d656",
   "metadata": {},
   "outputs": [
    {
     "data": {
      "text/plain": [
       "'C:\\\\Users\\\\hp\\\\Data Science class'"
      ]
     },
     "execution_count": 4,
     "metadata": {},
     "output_type": "execute_result"
    }
   ],
   "source": [
    "import os\n",
    "os.getcwd()"
   ]
  },
  {
   "cell_type": "code",
   "execution_count": 5,
   "id": "84dbdff4-f814-4d63-a0c4-d58b6f17d03f",
   "metadata": {},
   "outputs": [
    {
     "data": {
      "text/html": [
       "<div>\n",
       "<style scoped>\n",
       "    .dataframe tbody tr th:only-of-type {\n",
       "        vertical-align: middle;\n",
       "    }\n",
       "\n",
       "    .dataframe tbody tr th {\n",
       "        vertical-align: top;\n",
       "    }\n",
       "\n",
       "    .dataframe thead th {\n",
       "        text-align: right;\n",
       "    }\n",
       "</style>\n",
       "<table border=\"1\" class=\"dataframe\">\n",
       "  <thead>\n",
       "    <tr style=\"text-align: right;\">\n",
       "      <th></th>\n",
       "      <th>product_id</th>\n",
       "      <th>product_name</th>\n",
       "      <th>category</th>\n",
       "      <th>units_sold</th>\n",
       "      <th>sale_date</th>\n",
       "    </tr>\n",
       "  </thead>\n",
       "  <tbody>\n",
       "    <tr>\n",
       "      <th>0</th>\n",
       "      <td>1</td>\n",
       "      <td>Product 1</td>\n",
       "      <td>Home</td>\n",
       "      <td>25</td>\n",
       "      <td>2023-01-01</td>\n",
       "    </tr>\n",
       "    <tr>\n",
       "      <th>1</th>\n",
       "      <td>2</td>\n",
       "      <td>Product 2</td>\n",
       "      <td>Sports</td>\n",
       "      <td>15</td>\n",
       "      <td>2023-01-02</td>\n",
       "    </tr>\n",
       "    <tr>\n",
       "      <th>2</th>\n",
       "      <td>3</td>\n",
       "      <td>Product 3</td>\n",
       "      <td>Electronics</td>\n",
       "      <td>17</td>\n",
       "      <td>2023-01-03</td>\n",
       "    </tr>\n",
       "    <tr>\n",
       "      <th>3</th>\n",
       "      <td>4</td>\n",
       "      <td>Product 4</td>\n",
       "      <td>Home</td>\n",
       "      <td>19</td>\n",
       "      <td>2023-01-04</td>\n",
       "    </tr>\n",
       "    <tr>\n",
       "      <th>4</th>\n",
       "      <td>5</td>\n",
       "      <td>Product 5</td>\n",
       "      <td>Home</td>\n",
       "      <td>21</td>\n",
       "      <td>2023-01-05</td>\n",
       "    </tr>\n",
       "    <tr>\n",
       "      <th>5</th>\n",
       "      <td>6</td>\n",
       "      <td>Product 6</td>\n",
       "      <td>Sports</td>\n",
       "      <td>17</td>\n",
       "      <td>2023-01-06</td>\n",
       "    </tr>\n",
       "    <tr>\n",
       "      <th>6</th>\n",
       "      <td>7</td>\n",
       "      <td>Product 7</td>\n",
       "      <td>Electronics</td>\n",
       "      <td>19</td>\n",
       "      <td>2023-01-07</td>\n",
       "    </tr>\n",
       "    <tr>\n",
       "      <th>7</th>\n",
       "      <td>8</td>\n",
       "      <td>Product 8</td>\n",
       "      <td>Electronics</td>\n",
       "      <td>16</td>\n",
       "      <td>2023-01-08</td>\n",
       "    </tr>\n",
       "    <tr>\n",
       "      <th>8</th>\n",
       "      <td>9</td>\n",
       "      <td>Product 9</td>\n",
       "      <td>Home</td>\n",
       "      <td>21</td>\n",
       "      <td>2023-01-09</td>\n",
       "    </tr>\n",
       "    <tr>\n",
       "      <th>9</th>\n",
       "      <td>10</td>\n",
       "      <td>Product 10</td>\n",
       "      <td>Clothing</td>\n",
       "      <td>21</td>\n",
       "      <td>2023-01-10</td>\n",
       "    </tr>\n",
       "    <tr>\n",
       "      <th>10</th>\n",
       "      <td>11</td>\n",
       "      <td>Product 11</td>\n",
       "      <td>Home</td>\n",
       "      <td>17</td>\n",
       "      <td>2023-01-11</td>\n",
       "    </tr>\n",
       "    <tr>\n",
       "      <th>11</th>\n",
       "      <td>12</td>\n",
       "      <td>Product 12</td>\n",
       "      <td>Home</td>\n",
       "      <td>22</td>\n",
       "      <td>2023-01-12</td>\n",
       "    </tr>\n",
       "    <tr>\n",
       "      <th>12</th>\n",
       "      <td>13</td>\n",
       "      <td>Product 13</td>\n",
       "      <td>Home</td>\n",
       "      <td>14</td>\n",
       "      <td>2023-01-13</td>\n",
       "    </tr>\n",
       "    <tr>\n",
       "      <th>13</th>\n",
       "      <td>14</td>\n",
       "      <td>Product 14</td>\n",
       "      <td>Home</td>\n",
       "      <td>17</td>\n",
       "      <td>2023-01-14</td>\n",
       "    </tr>\n",
       "    <tr>\n",
       "      <th>14</th>\n",
       "      <td>15</td>\n",
       "      <td>Product 15</td>\n",
       "      <td>Sports</td>\n",
       "      <td>17</td>\n",
       "      <td>2023-01-15</td>\n",
       "    </tr>\n",
       "    <tr>\n",
       "      <th>15</th>\n",
       "      <td>16</td>\n",
       "      <td>Product 16</td>\n",
       "      <td>Electronics</td>\n",
       "      <td>21</td>\n",
       "      <td>2023-01-16</td>\n",
       "    </tr>\n",
       "    <tr>\n",
       "      <th>16</th>\n",
       "      <td>17</td>\n",
       "      <td>Product 17</td>\n",
       "      <td>Sports</td>\n",
       "      <td>21</td>\n",
       "      <td>2023-01-17</td>\n",
       "    </tr>\n",
       "    <tr>\n",
       "      <th>17</th>\n",
       "      <td>18</td>\n",
       "      <td>Product 18</td>\n",
       "      <td>Sports</td>\n",
       "      <td>13</td>\n",
       "      <td>2023-01-18</td>\n",
       "    </tr>\n",
       "    <tr>\n",
       "      <th>18</th>\n",
       "      <td>19</td>\n",
       "      <td>Product 19</td>\n",
       "      <td>Sports</td>\n",
       "      <td>18</td>\n",
       "      <td>2023-01-19</td>\n",
       "    </tr>\n",
       "    <tr>\n",
       "      <th>19</th>\n",
       "      <td>20</td>\n",
       "      <td>Product 20</td>\n",
       "      <td>Home</td>\n",
       "      <td>25</td>\n",
       "      <td>2023-01-20</td>\n",
       "    </tr>\n",
       "  </tbody>\n",
       "</table>\n",
       "</div>"
      ],
      "text/plain": [
       "    product_id product_name     category  units_sold  sale_date\n",
       "0            1    Product 1         Home          25 2023-01-01\n",
       "1            2    Product 2       Sports          15 2023-01-02\n",
       "2            3    Product 3  Electronics          17 2023-01-03\n",
       "3            4    Product 4         Home          19 2023-01-04\n",
       "4            5    Product 5         Home          21 2023-01-05\n",
       "5            6    Product 6       Sports          17 2023-01-06\n",
       "6            7    Product 7  Electronics          19 2023-01-07\n",
       "7            8    Product 8  Electronics          16 2023-01-08\n",
       "8            9    Product 9         Home          21 2023-01-09\n",
       "9           10   Product 10     Clothing          21 2023-01-10\n",
       "10          11   Product 11         Home          17 2023-01-11\n",
       "11          12   Product 12         Home          22 2023-01-12\n",
       "12          13   Product 13         Home          14 2023-01-13\n",
       "13          14   Product 14         Home          17 2023-01-14\n",
       "14          15   Product 15       Sports          17 2023-01-15\n",
       "15          16   Product 16  Electronics          21 2023-01-16\n",
       "16          17   Product 17       Sports          21 2023-01-17\n",
       "17          18   Product 18       Sports          13 2023-01-18\n",
       "18          19   Product 19       Sports          18 2023-01-19\n",
       "19          20   Product 20         Home          25 2023-01-20"
      ]
     },
     "execution_count": 5,
     "metadata": {},
     "output_type": "execute_result"
    }
   ],
   "source": [
    "df_sales"
   ]
  },
  {
   "cell_type": "code",
   "execution_count": 6,
   "id": "d5738da3-edaa-421f-b31f-c3671ada91e0",
   "metadata": {},
   "outputs": [
    {
     "data": {
      "text/plain": [
       "Index(['product_id', 'product_name', 'category', 'units_sold', 'sale_date'], dtype='object')"
      ]
     },
     "execution_count": 6,
     "metadata": {},
     "output_type": "execute_result"
    }
   ],
   "source": [
    "df_sales.columns"
   ]
  },
  {
   "cell_type": "markdown",
   "id": "835d7a20-9f80-482b-a9a3-64d2f9e85a74",
   "metadata": {},
   "source": [
    "# Descriptive Stastics"
   ]
  },
  {
   "cell_type": "code",
   "execution_count": 7,
   "id": "09897450-6357-43fe-8d23-350da57a23a6",
   "metadata": {},
   "outputs": [
    {
     "data": {
      "text/plain": [
       "18.8"
      ]
     },
     "execution_count": 7,
     "metadata": {},
     "output_type": "execute_result"
    }
   ],
   "source": [
    "df_sales['units_sold'].mean()  #1"
   ]
  },
  {
   "cell_type": "code",
   "execution_count": 8,
   "id": "5d3f7ebb-725d-4916-a9a2-0720036a9ef1",
   "metadata": {},
   "outputs": [
    {
     "data": {
      "text/plain": [
       "18.5"
      ]
     },
     "execution_count": 8,
     "metadata": {},
     "output_type": "execute_result"
    }
   ],
   "source": [
    "# 2 median \n",
    "df_sales['units_sold'].median()"
   ]
  },
  {
   "cell_type": "code",
   "execution_count": 9,
   "id": "907c84c5-9594-46ab-9693-c1489b6a3282",
   "metadata": {},
   "outputs": [
    {
     "data": {
      "text/plain": [
       "0    17\n",
       "1    21\n",
       "Name: units_sold, dtype: int32"
      ]
     },
     "execution_count": 9,
     "metadata": {},
     "output_type": "execute_result"
    }
   ],
   "source": [
    "#  3 mode\n",
    "df_sales['units_sold'].mode()"
   ]
  },
  {
   "cell_type": "code",
   "execution_count": 10,
   "id": "10371559-76d4-4298-a84a-e6ea5b8f6e83",
   "metadata": {},
   "outputs": [
    {
     "name": "stdout",
     "output_type": "stream",
     "text": [
      "10.90526315789474\n",
      "3.3023117899275864\n"
     ]
    }
   ],
   "source": [
    "# 4 variance and std\n",
    "print(df_sales['units_sold'].var())\n",
    "print(df_sales['units_sold'].std())"
   ]
  },
  {
   "cell_type": "code",
   "execution_count": 11,
   "id": "0e08c30c-89b3-4aee-8f5a-69a54f627330",
   "metadata": {},
   "outputs": [
    {
     "data": {
      "text/html": [
       "<div>\n",
       "<style scoped>\n",
       "    .dataframe tbody tr th:only-of-type {\n",
       "        vertical-align: middle;\n",
       "    }\n",
       "\n",
       "    .dataframe tbody tr th {\n",
       "        vertical-align: top;\n",
       "    }\n",
       "\n",
       "    .dataframe thead th {\n",
       "        text-align: right;\n",
       "    }\n",
       "</style>\n",
       "<table border=\"1\" class=\"dataframe\">\n",
       "  <thead>\n",
       "    <tr style=\"text-align: right;\">\n",
       "      <th></th>\n",
       "      <th>product_id</th>\n",
       "      <th>product_name</th>\n",
       "      <th>category</th>\n",
       "      <th>units_sold</th>\n",
       "      <th>sale_date</th>\n",
       "    </tr>\n",
       "  </thead>\n",
       "  <tbody>\n",
       "    <tr>\n",
       "      <th>0</th>\n",
       "      <td>1</td>\n",
       "      <td>Product 1</td>\n",
       "      <td>Home</td>\n",
       "      <td>25</td>\n",
       "      <td>2023-01-01</td>\n",
       "    </tr>\n",
       "    <tr>\n",
       "      <th>1</th>\n",
       "      <td>2</td>\n",
       "      <td>Product 2</td>\n",
       "      <td>Sports</td>\n",
       "      <td>15</td>\n",
       "      <td>2023-01-02</td>\n",
       "    </tr>\n",
       "    <tr>\n",
       "      <th>2</th>\n",
       "      <td>3</td>\n",
       "      <td>Product 3</td>\n",
       "      <td>Electronics</td>\n",
       "      <td>17</td>\n",
       "      <td>2023-01-03</td>\n",
       "    </tr>\n",
       "    <tr>\n",
       "      <th>3</th>\n",
       "      <td>4</td>\n",
       "      <td>Product 4</td>\n",
       "      <td>Home</td>\n",
       "      <td>19</td>\n",
       "      <td>2023-01-04</td>\n",
       "    </tr>\n",
       "    <tr>\n",
       "      <th>4</th>\n",
       "      <td>5</td>\n",
       "      <td>Product 5</td>\n",
       "      <td>Home</td>\n",
       "      <td>21</td>\n",
       "      <td>2023-01-05</td>\n",
       "    </tr>\n",
       "  </tbody>\n",
       "</table>\n",
       "</div>"
      ],
      "text/plain": [
       "   product_id product_name     category  units_sold  sale_date\n",
       "0           1    Product 1         Home          25 2023-01-01\n",
       "1           2    Product 2       Sports          15 2023-01-02\n",
       "2           3    Product 3  Electronics          17 2023-01-03\n",
       "3           4    Product 4         Home          19 2023-01-04\n",
       "4           5    Product 5         Home          21 2023-01-05"
      ]
     },
     "execution_count": 11,
     "metadata": {},
     "output_type": "execute_result"
    }
   ],
   "source": [
    "df_sales.head()"
   ]
  },
  {
   "cell_type": "code",
   "execution_count": 12,
   "id": "b5dc96ac-52c1-40fc-93a7-b014b22f5f8f",
   "metadata": {},
   "outputs": [
    {
     "data": {
      "text/html": [
       "<div>\n",
       "<style scoped>\n",
       "    .dataframe tbody tr th:only-of-type {\n",
       "        vertical-align: middle;\n",
       "    }\n",
       "\n",
       "    .dataframe tbody tr th {\n",
       "        vertical-align: top;\n",
       "    }\n",
       "\n",
       "    .dataframe thead th {\n",
       "        text-align: right;\n",
       "    }\n",
       "</style>\n",
       "<table border=\"1\" class=\"dataframe\">\n",
       "  <thead>\n",
       "    <tr style=\"text-align: right;\">\n",
       "      <th>col_0</th>\n",
       "      <th>count</th>\n",
       "    </tr>\n",
       "    <tr>\n",
       "      <th>product_name</th>\n",
       "      <th></th>\n",
       "    </tr>\n",
       "  </thead>\n",
       "  <tbody>\n",
       "    <tr>\n",
       "      <th>Product 1</th>\n",
       "      <td>1</td>\n",
       "    </tr>\n",
       "    <tr>\n",
       "      <th>Product 10</th>\n",
       "      <td>1</td>\n",
       "    </tr>\n",
       "    <tr>\n",
       "      <th>Product 11</th>\n",
       "      <td>1</td>\n",
       "    </tr>\n",
       "    <tr>\n",
       "      <th>Product 12</th>\n",
       "      <td>1</td>\n",
       "    </tr>\n",
       "    <tr>\n",
       "      <th>Product 13</th>\n",
       "      <td>1</td>\n",
       "    </tr>\n",
       "    <tr>\n",
       "      <th>Product 14</th>\n",
       "      <td>1</td>\n",
       "    </tr>\n",
       "    <tr>\n",
       "      <th>Product 15</th>\n",
       "      <td>1</td>\n",
       "    </tr>\n",
       "    <tr>\n",
       "      <th>Product 16</th>\n",
       "      <td>1</td>\n",
       "    </tr>\n",
       "    <tr>\n",
       "      <th>Product 17</th>\n",
       "      <td>1</td>\n",
       "    </tr>\n",
       "    <tr>\n",
       "      <th>Product 18</th>\n",
       "      <td>1</td>\n",
       "    </tr>\n",
       "    <tr>\n",
       "      <th>Product 19</th>\n",
       "      <td>1</td>\n",
       "    </tr>\n",
       "    <tr>\n",
       "      <th>Product 2</th>\n",
       "      <td>1</td>\n",
       "    </tr>\n",
       "    <tr>\n",
       "      <th>Product 20</th>\n",
       "      <td>1</td>\n",
       "    </tr>\n",
       "    <tr>\n",
       "      <th>Product 3</th>\n",
       "      <td>1</td>\n",
       "    </tr>\n",
       "    <tr>\n",
       "      <th>Product 4</th>\n",
       "      <td>1</td>\n",
       "    </tr>\n",
       "    <tr>\n",
       "      <th>Product 5</th>\n",
       "      <td>1</td>\n",
       "    </tr>\n",
       "    <tr>\n",
       "      <th>Product 6</th>\n",
       "      <td>1</td>\n",
       "    </tr>\n",
       "    <tr>\n",
       "      <th>Product 7</th>\n",
       "      <td>1</td>\n",
       "    </tr>\n",
       "    <tr>\n",
       "      <th>Product 8</th>\n",
       "      <td>1</td>\n",
       "    </tr>\n",
       "    <tr>\n",
       "      <th>Product 9</th>\n",
       "      <td>1</td>\n",
       "    </tr>\n",
       "  </tbody>\n",
       "</table>\n",
       "</div>"
      ],
      "text/plain": [
       "col_0         count\n",
       "product_name       \n",
       "Product 1         1\n",
       "Product 10        1\n",
       "Product 11        1\n",
       "Product 12        1\n",
       "Product 13        1\n",
       "Product 14        1\n",
       "Product 15        1\n",
       "Product 16        1\n",
       "Product 17        1\n",
       "Product 18        1\n",
       "Product 19        1\n",
       "Product 2         1\n",
       "Product 20        1\n",
       "Product 3         1\n",
       "Product 4         1\n",
       "Product 5         1\n",
       "Product 6         1\n",
       "Product 7         1\n",
       "Product 8         1\n",
       "Product 9         1"
      ]
     },
     "execution_count": 12,
     "metadata": {},
     "output_type": "execute_result"
    }
   ],
   "source": [
    "pd.crosstab(df_sales['product_name'],'count')"
   ]
  },
  {
   "cell_type": "code",
   "execution_count": 13,
   "id": "310cbd6c-b4f3-4e39-b8f7-541f21e2f2ee",
   "metadata": {},
   "outputs": [
    {
     "data": {
      "text/html": [
       "<div>\n",
       "<style scoped>\n",
       "    .dataframe tbody tr th:only-of-type {\n",
       "        vertical-align: middle;\n",
       "    }\n",
       "\n",
       "    .dataframe tbody tr th {\n",
       "        vertical-align: top;\n",
       "    }\n",
       "\n",
       "    .dataframe thead th {\n",
       "        text-align: right;\n",
       "    }\n",
       "</style>\n",
       "<table border=\"1\" class=\"dataframe\">\n",
       "  <thead>\n",
       "    <tr style=\"text-align: right;\">\n",
       "      <th>col_0</th>\n",
       "      <th>count</th>\n",
       "    </tr>\n",
       "    <tr>\n",
       "      <th>category</th>\n",
       "      <th></th>\n",
       "    </tr>\n",
       "  </thead>\n",
       "  <tbody>\n",
       "    <tr>\n",
       "      <th>Clothing</th>\n",
       "      <td>1</td>\n",
       "    </tr>\n",
       "    <tr>\n",
       "      <th>Electronics</th>\n",
       "      <td>4</td>\n",
       "    </tr>\n",
       "    <tr>\n",
       "      <th>Home</th>\n",
       "      <td>9</td>\n",
       "    </tr>\n",
       "    <tr>\n",
       "      <th>Sports</th>\n",
       "      <td>6</td>\n",
       "    </tr>\n",
       "  </tbody>\n",
       "</table>\n",
       "</div>"
      ],
      "text/plain": [
       "col_0        count\n",
       "category          \n",
       "Clothing         1\n",
       "Electronics      4\n",
       "Home             9\n",
       "Sports           6"
      ]
     },
     "execution_count": 13,
     "metadata": {},
     "output_type": "execute_result"
    }
   ],
   "source": [
    "pd.crosstab(df_sales['category'],'count')"
   ]
  },
  {
   "cell_type": "code",
   "execution_count": 14,
   "id": "970ad868-2c68-4ccf-8d15-b462ccde4f2e",
   "metadata": {},
   "outputs": [],
   "source": [
    "#  5 gropy by \n",
    "category_stats=df_sales.groupby('category')['units_sold'].agg(['sum','mean','std']).reset_index()"
   ]
  },
  {
   "cell_type": "code",
   "execution_count": 15,
   "id": "1bdaa5bf-ab2c-484a-bbc8-74a2d088c9ea",
   "metadata": {},
   "outputs": [
    {
     "data": {
      "text/plain": [
       "Index(['category', 'sum', 'mean', 'std'], dtype='object')"
      ]
     },
     "execution_count": 15,
     "metadata": {},
     "output_type": "execute_result"
    }
   ],
   "source": [
    "category_stats.columns"
   ]
  },
  {
   "cell_type": "code",
   "execution_count": 16,
   "id": "a27c04fa-1eee-44c6-a847-9562afcb0448",
   "metadata": {},
   "outputs": [],
   "source": [
    "# rename the columns\n",
    "category_stats.columns=['Category','Total Units Solid ','Average Solid Unit','Std Average Solid']"
   ]
  },
  {
   "cell_type": "code",
   "execution_count": 17,
   "id": "93c463ef-60bb-4673-9a10-cc5a165bd712",
   "metadata": {},
   "outputs": [
    {
     "data": {
      "text/html": [
       "<div>\n",
       "<style scoped>\n",
       "    .dataframe tbody tr th:only-of-type {\n",
       "        vertical-align: middle;\n",
       "    }\n",
       "\n",
       "    .dataframe tbody tr th {\n",
       "        vertical-align: top;\n",
       "    }\n",
       "\n",
       "    .dataframe thead th {\n",
       "        text-align: right;\n",
       "    }\n",
       "</style>\n",
       "<table border=\"1\" class=\"dataframe\">\n",
       "  <thead>\n",
       "    <tr style=\"text-align: right;\">\n",
       "      <th></th>\n",
       "      <th>Category</th>\n",
       "      <th>Total Units Solid</th>\n",
       "      <th>Average Solid Unit</th>\n",
       "      <th>Std Average Solid</th>\n",
       "    </tr>\n",
       "  </thead>\n",
       "  <tbody>\n",
       "    <tr>\n",
       "      <th>0</th>\n",
       "      <td>Clothing</td>\n",
       "      <td>21</td>\n",
       "      <td>21.000000</td>\n",
       "      <td>NaN</td>\n",
       "    </tr>\n",
       "    <tr>\n",
       "      <th>1</th>\n",
       "      <td>Electronics</td>\n",
       "      <td>73</td>\n",
       "      <td>18.250000</td>\n",
       "      <td>2.217356</td>\n",
       "    </tr>\n",
       "    <tr>\n",
       "      <th>2</th>\n",
       "      <td>Home</td>\n",
       "      <td>181</td>\n",
       "      <td>20.111111</td>\n",
       "      <td>3.723051</td>\n",
       "    </tr>\n",
       "    <tr>\n",
       "      <th>3</th>\n",
       "      <td>Sports</td>\n",
       "      <td>101</td>\n",
       "      <td>16.833333</td>\n",
       "      <td>2.714160</td>\n",
       "    </tr>\n",
       "  </tbody>\n",
       "</table>\n",
       "</div>"
      ],
      "text/plain": [
       "      Category  Total Units Solid   Average Solid Unit  Std Average Solid\n",
       "0     Clothing                  21           21.000000                NaN\n",
       "1  Electronics                  73           18.250000           2.217356\n",
       "2         Home                 181           20.111111           3.723051\n",
       "3       Sports                 101           16.833333           2.714160"
      ]
     },
     "execution_count": 17,
     "metadata": {},
     "output_type": "execute_result"
    }
   ],
   "source": [
    "category_stats"
   ]
  },
  {
   "cell_type": "markdown",
   "id": "9c83e265-d86a-4222-80cc-ee771ff2baac",
   "metadata": {},
   "source": [
    "# confidence Interval"
   ]
  },
  {
   "cell_type": "code",
   "execution_count": 20,
   "id": "66621684-34f7-498c-bf3e-d390d23fe603",
   "metadata": {},
   "outputs": [
    {
     "data": {
      "text/html": [
       "<div>\n",
       "<style scoped>\n",
       "    .dataframe tbody tr th:only-of-type {\n",
       "        vertical-align: middle;\n",
       "    }\n",
       "\n",
       "    .dataframe tbody tr th {\n",
       "        vertical-align: top;\n",
       "    }\n",
       "\n",
       "    .dataframe thead th {\n",
       "        text-align: right;\n",
       "    }\n",
       "</style>\n",
       "<table border=\"1\" class=\"dataframe\">\n",
       "  <thead>\n",
       "    <tr style=\"text-align: right;\">\n",
       "      <th></th>\n",
       "      <th>product_id</th>\n",
       "      <th>product_name</th>\n",
       "      <th>category</th>\n",
       "      <th>units_sold</th>\n",
       "      <th>sale_date</th>\n",
       "    </tr>\n",
       "  </thead>\n",
       "  <tbody>\n",
       "    <tr>\n",
       "      <th>0</th>\n",
       "      <td>1</td>\n",
       "      <td>Product 1</td>\n",
       "      <td>Home</td>\n",
       "      <td>25</td>\n",
       "      <td>2023-01-01</td>\n",
       "    </tr>\n",
       "    <tr>\n",
       "      <th>1</th>\n",
       "      <td>2</td>\n",
       "      <td>Product 2</td>\n",
       "      <td>Sports</td>\n",
       "      <td>15</td>\n",
       "      <td>2023-01-02</td>\n",
       "    </tr>\n",
       "    <tr>\n",
       "      <th>2</th>\n",
       "      <td>3</td>\n",
       "      <td>Product 3</td>\n",
       "      <td>Electronics</td>\n",
       "      <td>17</td>\n",
       "      <td>2023-01-03</td>\n",
       "    </tr>\n",
       "    <tr>\n",
       "      <th>3</th>\n",
       "      <td>4</td>\n",
       "      <td>Product 4</td>\n",
       "      <td>Home</td>\n",
       "      <td>19</td>\n",
       "      <td>2023-01-04</td>\n",
       "    </tr>\n",
       "    <tr>\n",
       "      <th>4</th>\n",
       "      <td>5</td>\n",
       "      <td>Product 5</td>\n",
       "      <td>Home</td>\n",
       "      <td>21</td>\n",
       "      <td>2023-01-05</td>\n",
       "    </tr>\n",
       "  </tbody>\n",
       "</table>\n",
       "</div>"
      ],
      "text/plain": [
       "   product_id product_name     category  units_sold  sale_date\n",
       "0           1    Product 1         Home          25 2023-01-01\n",
       "1           2    Product 2       Sports          15 2023-01-02\n",
       "2           3    Product 3  Electronics          17 2023-01-03\n",
       "3           4    Product 4         Home          19 2023-01-04\n",
       "4           5    Product 5         Home          21 2023-01-05"
      ]
     },
     "execution_count": 20,
     "metadata": {},
     "output_type": "execute_result"
    }
   ],
   "source": [
    "df_sales.head()"
   ]
  },
  {
   "cell_type": "code",
   "execution_count": 25,
   "id": "11e2753c-a19d-4f65-ad47-a8e50d5b71b9",
   "metadata": {},
   "outputs": [
    {
     "name": "stdout",
     "output_type": "stream",
     "text": [
      "\n",
      "Confidence Interval for the Mean of Units Sold:\n",
      "(17.254470507823573, 20.34552949217643)\n"
     ]
    }
   ],
   "source": [
    "# Confidence Interval for the mean of units sold\n",
    "confidence_level = 0.95\n",
    "degrees_freedom = len(df_sales['units_sold']) - 1\n",
    "sample_mean = df_sales['units_sold'].mean()\n",
    "sample_standard_error = df_sales['units_sold'].std() / np.sqrt(len(df_sales['units_sold']))\n",
    "\n",
    "# t-score for the confidence level\n",
    "t_score = stats.t.ppf((1 + confidence_level) / 2, degrees_freedom)\n",
    "margin_of_error = t_score * sample_standard_error\n",
    "\n",
    "confidence_interval = (sample_mean - margin_of_error, sample_mean + margin_of_error)\n",
    "print(\"\\nConfidence Interval for the Mean of Units Sold:\")\n",
    "print(confidence_interval)"
   ]
  },
  {
   "cell_type": "code",
   "execution_count": null,
   "id": "5531c370-d6d1-4eb5-9208-ef8d21d9b9e8",
   "metadata": {},
   "outputs": [],
   "source": []
  },
  {
   "cell_type": "markdown",
   "id": "a8619b29-fdee-43bd-a753-7ad48d2c9723",
   "metadata": {},
   "source": [
    "# Hypothesis Testing"
   ]
  },
  {
   "cell_type": "code",
   "execution_count": 18,
   "id": "c2103498-1219-40a9-8076-7de058721b3f",
   "metadata": {},
   "outputs": [
    {
     "name": "stdout",
     "output_type": "stream",
     "text": [
      "Accept the Null Hypothesis\n"
     ]
    }
   ],
   "source": [
    "# Hypothesis Testing\n",
    "# h0=20\n",
    "# h1!=20\n",
    "# here the sample is less than 30 and std is not given we have to use the t-test\n",
    "\n",
    "from scipy import stats\n",
    "t_statics,p_value=stats.ttest_1samp(df_sales['units_sold'],20)\n",
    "if(p_value<0.05):# null go reject h0\n",
    "    print(\"Reject The Null Hypothesis\")\n",
    "else:\n",
    "    print(\"Accept the Null Hypothesis\") # null high accept the H0"
   ]
  },
  {
   "cell_type": "markdown",
   "id": "2a826252-032d-41b9-920c-a40119fa403d",
   "metadata": {},
   "source": [
    "# Visualization"
   ]
  },
  {
   "cell_type": "markdown",
   "id": "cfe4c7ef-399f-47b4-b69e-6fe0150cf1d6",
   "metadata": {},
   "source": [
    "##### plot distribution for units_solid"
   ]
  },
  {
   "cell_type": "raw",
   "id": "35115b9e-e74d-4506-b3f1-10500fd68cff",
   "metadata": {},
   "source": [
    "This line of code (plt.axvline()) in Matplotlib adds a vertical line to a plot at a specified x-coordinate, which is useful for highlighting key reference points (like the mean, median, or thresholds)"
   ]
  },
  {
   "cell_type": "code",
   "execution_count": 40,
   "id": "8547927c-7535-43e0-adb6-44cda0565955",
   "metadata": {},
   "outputs": [
    {
     "data": {
      "image/png": "[encoded data removed]",
      "text/plain": [
       "<Figure size 1000x600 with 1 Axes>"
      ]
     },
     "metadata": {},
     "output_type": "display_data"
    }
   ],
   "source": [
    "plt.figure(figsize=(10,6))\n",
    "sns.histplot(df_sales['units_sold'],bins=10,kde=True)\n",
    "plt.title(\"Distribution of Unit Solid\")\n",
    "plt.xlabel(\"units_solid\")\n",
    "plt.ylabel(\"Frequency\")\n",
    "plt.axvline(df_sales['units_sold'].mean(),linestyle='--',color='red',label='mean')\n",
    "plt.axvline(df_sales['units_sold'].median(),linestyle='-',color= 'yellow',label='median')\n",
    "plt.axvline(df_sales['units_sold'].mode()[0], linestyle=':', color='black', label='Mode')\n",
    "plt.legend()\n",
    "plt.show()"
   ]
  },
  {
   "cell_type": "markdown",
   "id": "8c34cc47-f51d-49de-aae4-09cd63a07d22",
   "metadata": {},
   "source": [
    "# boxplot"
   ]
  },
  {
   "cell_type": "code",
   "execution_count": 46,
   "id": "5b597306-b5ce-4583-862b-9ca1b9893e90",
   "metadata": {},
   "outputs": [
    {
     "data": {
      "image/png": "[encoded data removed]",
      "text/plain": [
       "<Figure size 1000x600 with 1 Axes>"
      ]
     },
     "metadata": {},
     "output_type": "display_data"
    }
   ],
   "source": [
    "plt.figure(figsize=(10,6))\n",
    "sns.boxplot(x='category',y='units_sold',data=df_sales)\n",
    "plt.title('Boxplot of Units Sold by Category')\n",
    "plt.xlabel('Category')\n",
    "plt.ylabel('Units Sold')\n",
    "plt.show()"
   ]
  },
  {
   "cell_type": "markdown",
   "id": "45ccf9d6-3ebc-4532-b239-bf6ba9bfd8fc",
   "metadata": {},
   "source": [
    "# Barplot"
   ]
  },
  {
   "cell_type": "code",
   "execution_count": 49,
   "id": "0f572fea-bd34-4586-bce2-ea3c8159ed29",
   "metadata": {},
   "outputs": [
    {
     "data": {
      "text/html": [
       "<div>\n",
       "<style scoped>\n",
       "    .dataframe tbody tr th:only-of-type {\n",
       "        vertical-align: middle;\n",
       "    }\n",
       "\n",
       "    .dataframe tbody tr th {\n",
       "        vertical-align: top;\n",
       "    }\n",
       "\n",
       "    .dataframe thead th {\n",
       "        text-align: right;\n",
       "    }\n",
       "</style>\n",
       "<table border=\"1\" class=\"dataframe\">\n",
       "  <thead>\n",
       "    <tr style=\"text-align: right;\">\n",
       "      <th></th>\n",
       "      <th>Category</th>\n",
       "      <th>Total Units Solid</th>\n",
       "      <th>Average Solid Unit</th>\n",
       "      <th>Std Average Solid</th>\n",
       "    </tr>\n",
       "  </thead>\n",
       "  <tbody>\n",
       "    <tr>\n",
       "      <th>0</th>\n",
       "      <td>Clothing</td>\n",
       "      <td>21</td>\n",
       "      <td>21.000000</td>\n",
       "      <td>NaN</td>\n",
       "    </tr>\n",
       "    <tr>\n",
       "      <th>1</th>\n",
       "      <td>Electronics</td>\n",
       "      <td>73</td>\n",
       "      <td>18.250000</td>\n",
       "      <td>2.217356</td>\n",
       "    </tr>\n",
       "    <tr>\n",
       "      <th>2</th>\n",
       "      <td>Home</td>\n",
       "      <td>181</td>\n",
       "      <td>20.111111</td>\n",
       "      <td>3.723051</td>\n",
       "    </tr>\n",
       "    <tr>\n",
       "      <th>3</th>\n",
       "      <td>Sports</td>\n",
       "      <td>101</td>\n",
       "      <td>16.833333</td>\n",
       "      <td>2.714160</td>\n",
       "    </tr>\n",
       "  </tbody>\n",
       "</table>\n",
       "</div>"
      ],
      "text/plain": [
       "      Category  Total Units Solid   Average Solid Unit  Std Average Solid\n",
       "0     Clothing                  21           21.000000                NaN\n",
       "1  Electronics                  73           18.250000           2.217356\n",
       "2         Home                 181           20.111111           3.723051\n",
       "3       Sports                 101           16.833333           2.714160"
      ]
     },
     "execution_count": 49,
     "metadata": {},
     "output_type": "execute_result"
    }
   ],
   "source": [
    "category_stats.head()"
   ]
  },
  {
   "cell_type": "code",
   "execution_count": 52,
   "id": "79832924-e669-4b28-9363-4f447f8f80ce",
   "metadata": {},
   "outputs": [
    {
     "data": {
      "text/plain": [
       "Index(['Category', 'Total Units Solid ', 'Average Solid Unit',\n",
       "       'Std Average Solid'],\n",
       "      dtype='object')"
      ]
     },
     "execution_count": 52,
     "metadata": {},
     "output_type": "execute_result"
    }
   ],
   "source": [
    "category_stats.columns"
   ]
  },
  {
   "cell_type": "code",
   "execution_count": 53,
   "id": "624ec0d9-0377-4136-b704-5c73a13f0ca5",
   "metadata": {},
   "outputs": [
    {
     "data": {
      "image/png": "[encoded data removed]",
      "text/plain": [
       "<Figure size 1000x600 with 1 Axes>"
      ]
     },
     "metadata": {},
     "output_type": "display_data"
    }
   ],
   "source": [
    "plt.figure(figsize=(10,6))\n",
    "sns.barplot(x='Category',y='Total Units Solid ',data=category_stats)\n",
    "plt.title('Boxplot of Units Sold by Category')\n",
    "plt.xlabel('Category')\n",
    "plt.ylabel('Units Sold')\n",
    "plt.show()"
   ]
  },
  {
   "cell_type": "code",
   "execution_count": null,
   "id": "c1e4f888-1564-4226-b34c-e569167836de",
   "metadata": {},
   "outputs": [],
   "source": []
  },
  {
   "cell_type": "code",
   "execution_count": null,
   "id": "96450dd3-f247-499e-92a5-d8e8d809bf25",
   "metadata": {},
   "outputs": [],
   "source": []
  }
 ],
 "metadata": {
  "kernelspec": {
   "display_name": "Python 3 (ipykernel)",
   "language": "python",
   "name": "python3"
  },
  "language_info": {
   "codemirror_mode": {
    "name": "ipython",
    "version": 3
   },
   "file_extension": ".py",
   "mimetype": "text/x-python",
   "name": "python",
   "nbconvert_exporter": "python",
   "pygments_lexer": "ipython3",
   "version": "3.12.4"
  }
 },
 "nbformat": 4,
 "nbformat_minor": 5
}
