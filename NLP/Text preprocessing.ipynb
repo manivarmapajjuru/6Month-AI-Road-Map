{
 "cells": [
  {
   "cell_type": "code",
   "execution_count": 14,
   "id": "da81b5c5-071c-4b8f-8bb2-ae4939bdb556",
   "metadata": {},
   "outputs": [],
   "source": [
    "import nltk"
   ]
  },
  {
   "cell_type": "code",
   "execution_count": 15,
   "id": "2f6dd9f6-da85-4d40-8347-31c36ebcd23d",
   "metadata": {},
   "outputs": [
    {
     "name": "stdout",
     "output_type": "stream",
     "text": [
      "showing info https://raw.githubusercontent.com/nltk/nltk_data/gh-pages/index.xml\n"
     ]
    },
    {
     "data": {
      "text/plain": [
       "True"
      ]
     },
     "execution_count": 15,
     "metadata": {},
     "output_type": "execute_result"
    }
   ],
   "source": [
    "nltk.download()"
   ]
  },
  {
   "cell_type": "code",
   "execution_count": 16,
   "id": "bbd927e6-b162-426f-aa33-96426d02c06b",
   "metadata": {},
   "outputs": [
    {
     "data": {
      "text/plain": [
       "'He is a good boy. She is a good girl. boy & girl are good.'"
      ]
     },
     "execution_count": 16,
     "metadata": {},
     "output_type": "execute_result"
    }
   ],
   "source": [
    "paragraph=\"He is a good boy. She is a good girl. boy & girl are good.\"\n",
    "paragraph\n"
   ]
  },
  {
   "cell_type": "markdown",
   "id": "dd2b2db9-30df-4c85-b6f8-2719487ee2b0",
   "metadata": {},
   "source": [
    "# tokenizatiom"
   ]
  },
  {
   "cell_type": "markdown",
   "id": "da0190de-0d54-430b-bdcc-bc05bb0d274c",
   "metadata": {},
   "source": [
    "##### spliting the word"
   ]
  },
  {
   "cell_type": "markdown",
   "id": "9e060f91-6d24-4943-8034-6deac8a8334f",
   "metadata": {},
   "source": [
    "##### sentence tokenization"
   ]
  },
  {
   "cell_type": "code",
   "execution_count": 17,
   "id": "1fd4719b-afd5-48b0-b5b8-8e3d82421dfd",
   "metadata": {},
   "outputs": [
    {
     "data": {
      "text/plain": [
       "['He is a good boy.', 'She is a good girl.', 'boy & girl are good.']"
      ]
     },
     "execution_count": 17,
     "metadata": {},
     "output_type": "execute_result"
    }
   ],
   "source": [
    "sentence=nltk.sent_tokenize(paragraph)\n",
    "sentence"
   ]
  },
  {
   "cell_type": "markdown",
   "id": "fc7c94a1-ebf1-4eac-bf10-dd9a7d9c2c52",
   "metadata": {},
   "source": [
    "#### word tokenization"
   ]
  },
  {
   "cell_type": "code",
   "execution_count": 18,
   "id": "6382f53e-5db3-42a9-b7b3-4c239cc7a530",
   "metadata": {},
   "outputs": [
    {
     "data": {
      "text/plain": [
       "['He',\n",
       " 'is',\n",
       " 'a',\n",
       " 'good',\n",
       " 'boy',\n",
       " '.',\n",
       " 'She',\n",
       " 'is',\n",
       " 'a',\n",
       " 'good',\n",
       " 'girl',\n",
       " '.',\n",
       " 'boy',\n",
       " '&',\n",
       " 'girl',\n",
       " 'are',\n",
       " 'good',\n",
       " '.']"
      ]
     },
     "execution_count": 18,
     "metadata": {},
     "output_type": "execute_result"
    }
   ],
   "source": [
    "word=nltk.word_tokenize(paragraph)\n",
    "word"
   ]
  },
  {
   "cell_type": "markdown",
   "id": "2710dd8d-75eb-48b4-84bf-7c98faadf257",
   "metadata": {},
   "source": [
    "# Text Cleaning"
   ]
  },
  {
   "cell_type": "markdown",
   "id": "e986d942-bac3-4880-822f-82b166ccb2a4",
   "metadata": {},
   "source": [
    "###### remove punctuation"
   ]
  },
  {
   "cell_type": "code",
   "execution_count": 19,
   "id": "a3127094-5eff-4211-b823-57aad9fc5d90",
   "metadata": {},
   "outputs": [
    {
     "name": "stdout",
     "output_type": "stream",
     "text": [
      "['He is a good boy ', 'She is a good girl ', 'boy   girl are good ']\n"
     ]
    }
   ],
   "source": [
    "import re\n",
    "corpus=[] # bag of word (bow)\n",
    "for i in range(len(sentence)):\n",
    "    rp=re.sub('[^a-zA-Z]',\" \",sentence[i])\n",
    "    corpus.append(rp)\n",
    "print(corpus)    \n",
    "                                           # aceppting the small and capital alphabets\n",
    "                                           # remaining ignoring it"
   ]
  },
  {
   "cell_type": "markdown",
   "id": "9023e26a-e6ff-4538-9396-8672a7645be6",
   "metadata": {},
   "source": [
    "# list of stopwords"
   ]
  },
  {
   "cell_type": "code",
   "execution_count": 20,
   "id": "dcd3cde4-9282-4c64-9a65-09bfd906f3e5",
   "metadata": {},
   "outputs": [
    {
     "data": {
      "text/plain": [
       "['a',\n",
       " 'about',\n",
       " 'above',\n",
       " 'after',\n",
       " 'again',\n",
       " 'against',\n",
       " 'ain',\n",
       " 'all',\n",
       " 'am',\n",
       " 'an',\n",
       " 'and',\n",
       " 'any',\n",
       " 'are',\n",
       " 'aren',\n",
       " \"aren't\",\n",
       " 'as',\n",
       " 'at',\n",
       " 'be',\n",
       " 'because',\n",
       " 'been',\n",
       " 'before',\n",
       " 'being',\n",
       " 'below',\n",
       " 'between',\n",
       " 'both',\n",
       " 'but',\n",
       " 'by',\n",
       " 'can',\n",
       " 'couldn',\n",
       " \"couldn't\",\n",
       " 'd',\n",
       " 'did',\n",
       " 'didn',\n",
       " \"didn't\",\n",
       " 'do',\n",
       " 'does',\n",
       " 'doesn',\n",
       " \"doesn't\",\n",
       " 'doing',\n",
       " 'don',\n",
       " \"don't\",\n",
       " 'down',\n",
       " 'during',\n",
       " 'each',\n",
       " 'few',\n",
       " 'for',\n",
       " 'from',\n",
       " 'further',\n",
       " 'had',\n",
       " 'hadn',\n",
       " \"hadn't\",\n",
       " 'has',\n",
       " 'hasn',\n",
       " \"hasn't\",\n",
       " 'have',\n",
       " 'haven',\n",
       " \"haven't\",\n",
       " 'having',\n",
       " 'he',\n",
       " \"he'd\",\n",
       " \"he'll\",\n",
       " 'her',\n",
       " 'here',\n",
       " 'hers',\n",
       " 'herself',\n",
       " \"he's\",\n",
       " 'him',\n",
       " 'himself',\n",
       " 'his',\n",
       " 'how',\n",
       " 'i',\n",
       " \"i'd\",\n",
       " 'if',\n",
       " \"i'll\",\n",
       " \"i'm\",\n",
       " 'in',\n",
       " 'into',\n",
       " 'is',\n",
       " 'isn',\n",
       " \"isn't\",\n",
       " 'it',\n",
       " \"it'd\",\n",
       " \"it'll\",\n",
       " \"it's\",\n",
       " 'its',\n",
       " 'itself',\n",
       " \"i've\",\n",
       " 'just',\n",
       " 'll',\n",
       " 'm',\n",
       " 'ma',\n",
       " 'me',\n",
       " 'mightn',\n",
       " \"mightn't\",\n",
       " 'more',\n",
       " 'most',\n",
       " 'mustn',\n",
       " \"mustn't\",\n",
       " 'my',\n",
       " 'myself',\n",
       " 'needn',\n",
       " \"needn't\",\n",
       " 'no',\n",
       " 'nor',\n",
       " 'not',\n",
       " 'now',\n",
       " 'o',\n",
       " 'of',\n",
       " 'off',\n",
       " 'on',\n",
       " 'once',\n",
       " 'only',\n",
       " 'or',\n",
       " 'other',\n",
       " 'our',\n",
       " 'ours',\n",
       " 'ourselves',\n",
       " 'out',\n",
       " 'over',\n",
       " 'own',\n",
       " 're',\n",
       " 's',\n",
       " 'same',\n",
       " 'shan',\n",
       " \"shan't\",\n",
       " 'she',\n",
       " \"she'd\",\n",
       " \"she'll\",\n",
       " \"she's\",\n",
       " 'should',\n",
       " 'shouldn',\n",
       " \"shouldn't\",\n",
       " \"should've\",\n",
       " 'so',\n",
       " 'some',\n",
       " 'such',\n",
       " 't',\n",
       " 'than',\n",
       " 'that',\n",
       " \"that'll\",\n",
       " 'the',\n",
       " 'their',\n",
       " 'theirs',\n",
       " 'them',\n",
       " 'themselves',\n",
       " 'then',\n",
       " 'there',\n",
       " 'these',\n",
       " 'they',\n",
       " \"they'd\",\n",
       " \"they'll\",\n",
       " \"they're\",\n",
       " \"they've\",\n",
       " 'this',\n",
       " 'those',\n",
       " 'through',\n",
       " 'to',\n",
       " 'too',\n",
       " 'under',\n",
       " 'until',\n",
       " 'up',\n",
       " 've',\n",
       " 'very',\n",
       " 'was',\n",
       " 'wasn',\n",
       " \"wasn't\",\n",
       " 'we',\n",
       " \"we'd\",\n",
       " \"we'll\",\n",
       " \"we're\",\n",
       " 'were',\n",
       " 'weren',\n",
       " \"weren't\",\n",
       " \"we've\",\n",
       " 'what',\n",
       " 'when',\n",
       " 'where',\n",
       " 'which',\n",
       " 'while',\n",
       " 'who',\n",
       " 'whom',\n",
       " 'why',\n",
       " 'will',\n",
       " 'with',\n",
       " 'won',\n",
       " \"won't\",\n",
       " 'wouldn',\n",
       " \"wouldn't\",\n",
       " 'y',\n",
       " 'you',\n",
       " \"you'd\",\n",
       " \"you'll\",\n",
       " 'your',\n",
       " \"you're\",\n",
       " 'yours',\n",
       " 'yourself',\n",
       " 'yourselves',\n",
       " \"you've\"]"
      ]
     },
     "execution_count": 20,
     "metadata": {},
     "output_type": "execute_result"
    }
   ],
   "source": [
    "from nltk.corpus import stopwords\n",
    "stopwords.words('english')"
   ]
  },
  {
   "cell_type": "markdown",
   "id": "321fcd71-4822-4fe5-8d6b-0505fe112b57",
   "metadata": {},
   "source": [
    "# ALL IN ONE CODE"
   ]
  },
  {
   "cell_type": "code",
   "execution_count": 21,
   "id": "47eef8b8-1194-4542-b8fb-ad4a0b3a4e2e",
   "metadata": {},
   "outputs": [
    {
     "name": "stdout",
     "output_type": "stream",
     "text": [
      "['He good boy', 'She good girl', 'boy girl good']\n"
     ]
    }
   ],
   "source": [
    "corpus=[]\n",
    "for i in range(len(sentence)):\n",
    "    rp=re.sub('[^a-zA-Z]',\" \",sentence[i])\n",
    "   # print(rp)\n",
    "    rp=rp.split()\n",
    "    #print(rp)\n",
    "    rp=[word for word in rp if not word in stopwords.words('english')]\n",
    "    #print(rp)\n",
    "    rp=\" \".join(rp)\n",
    "    #print(rp)\n",
    "    corpus.append(rp)\n",
    "print(corpus)   "
   ]
  },
  {
   "cell_type": "code",
   "execution_count": null,
   "id": "f094a948-cbcf-4437-8dbc-b75202234178",
   "metadata": {},
   "outputs": [],
   "source": []
  },
  {
   "cell_type": "markdown",
   "id": "4b3d8cd7-4dbc-4327-8fcc-047aa298d9d0",
   "metadata": {},
   "source": [
    "## stemming "
   ]
  },
  {
   "cell_type": "code",
   "execution_count": 22,
   "id": "c755c9e3-7db8-4f63-8781-df36652a9cd0",
   "metadata": {},
   "outputs": [],
   "source": [
    "### machine to machine language \n",
    "# because of it reduce time complexcity"
   ]
  },
  {
   "cell_type": "code",
   "execution_count": 23,
   "id": "ef3ad3d2-dc35-4191-af29-1f3b02a6ac44",
   "metadata": {},
   "outputs": [
    {
     "data": {
      "text/plain": [
       "'histor'"
      ]
     },
     "execution_count": 23,
     "metadata": {},
     "output_type": "execute_result"
    }
   ],
   "source": [
    "from nltk.stem import PorterStemmer\n",
    "ps=PorterStemmer()\n",
    "ps.stem('historically')"
   ]
  },
  {
   "cell_type": "markdown",
   "id": "cb14de09-f1ec-4277-82fd-87292746ede1",
   "metadata": {},
   "source": [
    "# Lemmatization "
   ]
  },
  {
   "cell_type": "code",
   "execution_count": 24,
   "id": "4815545e-6b23-495e-b82e-274c9c89a157",
   "metadata": {},
   "outputs": [
    {
     "data": {
      "text/plain": [
       "'historically'"
      ]
     },
     "execution_count": 24,
     "metadata": {},
     "output_type": "execute_result"
    }
   ],
   "source": [
    "# machine to human chart it understandable\n",
    "from nltk.stem import WordNetLemmatizer\n",
    "wnl=WordNetLemmatizer()\n",
    "wnl.lemmatize(\"historically\")"
   ]
  },
  {
   "cell_type": "markdown",
   "id": "42eb0174-aefa-4ee5-bcbb-cb3407dde83f",
   "metadata": {},
   "source": [
    "# Vectorization"
   ]
  },
  {
   "cell_type": "code",
   "execution_count": 26,
   "id": "73c61c3d-39c0-45b8-b9fa-09672ae87076",
   "metadata": {},
   "outputs": [
    {
     "data": {
      "text/plain": [
       "array([[1, 0, 1, 1, 0],\n",
       "       [0, 1, 1, 0, 1],\n",
       "       [1, 1, 1, 0, 0]], dtype=int64)"
      ]
     },
     "execution_count": 26,
     "metadata": {},
     "output_type": "execute_result"
    }
   ],
   "source": [
    "from sklearn.feature_extraction.text import CountVectorizer\n",
    "cv=CountVectorizer()\n",
    "bow=cv.fit_transform(corpus).toarray()\n",
    "bow"
   ]
  },
  {
   "cell_type": "code",
   "execution_count": 27,
   "id": "f5eb7b6e-b9da-4a26-83e6-c801049ec366",
   "metadata": {},
   "outputs": [
    {
     "name": "stdout",
     "output_type": "stream",
     "text": [
      "['He good boy', 'She good girl', 'boy girl good']\n"
     ]
    }
   ],
   "source": [
    "print(corpus)"
   ]
  },
  {
   "cell_type": "code",
   "execution_count": null,
   "id": "da8a9560-b58a-4450-a0ac-55714f5d7e64",
   "metadata": {},
   "outputs": [],
   "source": []
  }
 ],
 "metadata": {
  "kernelspec": {
   "display_name": "Python 3 (ipykernel)",
   "language": "python",
   "name": "python3"
  },
  "language_info": {
   "codemirror_mode": {
    "name": "ipython",
    "version": 3
   },
   "file_extension": ".py",
   "mimetype": "text/x-python",
   "name": "python",
   "nbconvert_exporter": "python",
   "pygments_lexer": "ipython3",
   "version": "3.12.4"
  }
 },
 "nbformat": 4,
 "nbformat_minor": 5
}
