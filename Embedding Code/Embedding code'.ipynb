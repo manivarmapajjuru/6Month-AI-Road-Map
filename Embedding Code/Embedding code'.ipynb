{
 "cells": [
  {
   "cell_type": "code",
   "execution_count": 2,
   "id": "111e63ee-d550-4a25-8f32-d0cabe3594bd",
   "metadata": {},
   "outputs": [
    {
     "name": "stdout",
     "output_type": "stream",
     "text": [
      "Defaulting to user installation because normal site-packages is not writeable\n",
      "Requirement already satisfied: tensorflow in c:\\users\\hp\\appdata\\roaming\\python\\python312\\site-packages (2.18.0)\n",
      "Requirement already satisfied: tensorflow-intel==2.18.0 in c:\\users\\hp\\appdata\\roaming\\python\\python312\\site-packages (from tensorflow) (2.18.0)\n",
      "Requirement already satisfied: absl-py>=1.0.0 in c:\\users\\hp\\appdata\\roaming\\python\\python312\\site-packages (from tensorflow-intel==2.18.0->tensorflow) (2.1.0)\n",
      "Requirement already satisfied: astunparse>=1.6.0 in c:\\users\\hp\\appdata\\roaming\\python\\python312\\site-packages (from tensorflow-intel==2.18.0->tensorflow) (1.6.3)\n",
      "Requirement already satisfied: flatbuffers>=24.3.25 in c:\\users\\hp\\appdata\\roaming\\python\\python312\\site-packages (from tensorflow-intel==2.18.0->tensorflow) (24.3.25)\n",
      "Requirement already satisfied: gast!=0.5.0,!=0.5.1,!=0.5.2,>=0.2.1 in c:\\users\\hp\\appdata\\roaming\\python\\python312\\site-packages (from tensorflow-intel==2.18.0->tensorflow) (0.6.0)\n",
      "Requirement already satisfied: google-pasta>=0.1.1 in c:\\users\\hp\\appdata\\roaming\\python\\python312\\site-packages (from tensorflow-intel==2.18.0->tensorflow) (0.2.0)\n",
      "Requirement already satisfied: libclang>=13.0.0 in c:\\users\\hp\\appdata\\roaming\\python\\python312\\site-packages (from tensorflow-intel==2.18.0->tensorflow) (18.1.1)\n",
      "Requirement already satisfied: opt-einsum>=2.3.2 in c:\\users\\hp\\appdata\\roaming\\python\\python312\\site-packages (from tensorflow-intel==2.18.0->tensorflow) (3.4.0)\n",
      "Requirement already satisfied: packaging in c:\\programdata\\anaconda3\\lib\\site-packages (from tensorflow-intel==2.18.0->tensorflow) (23.2)\n",
      "Requirement already satisfied: protobuf!=4.21.0,!=4.21.1,!=4.21.2,!=4.21.3,!=4.21.4,!=4.21.5,<6.0.0dev,>=3.20.3 in c:\\users\\hp\\appdata\\roaming\\python\\python312\\site-packages (from tensorflow-intel==2.18.0->tensorflow) (5.29.5)\n",
      "Requirement already satisfied: requests<3,>=2.21.0 in c:\\programdata\\anaconda3\\lib\\site-packages (from tensorflow-intel==2.18.0->tensorflow) (2.32.2)\n",
      "Requirement already satisfied: setuptools in c:\\programdata\\anaconda3\\lib\\site-packages (from tensorflow-intel==2.18.0->tensorflow) (69.5.1)\n",
      "Requirement already satisfied: six>=1.12.0 in c:\\programdata\\anaconda3\\lib\\site-packages (from tensorflow-intel==2.18.0->tensorflow) (1.16.0)\n",
      "Requirement already satisfied: termcolor>=1.1.0 in c:\\users\\hp\\appdata\\roaming\\python\\python312\\site-packages (from tensorflow-intel==2.18.0->tensorflow) (2.5.0)\n",
      "Requirement already satisfied: typing-extensions>=3.6.6 in c:\\programdata\\anaconda3\\lib\\site-packages (from tensorflow-intel==2.18.0->tensorflow) (4.11.0)\n",
      "Requirement already satisfied: wrapt>=1.11.0 in c:\\programdata\\anaconda3\\lib\\site-packages (from tensorflow-intel==2.18.0->tensorflow) (1.14.1)\n",
      "Requirement already satisfied: grpcio<2.0,>=1.24.3 in c:\\users\\hp\\appdata\\roaming\\python\\python312\\site-packages (from tensorflow-intel==2.18.0->tensorflow) (1.73.1)\n",
      "Requirement already satisfied: tensorboard<2.19,>=2.18 in c:\\users\\hp\\appdata\\roaming\\python\\python312\\site-packages (from tensorflow-intel==2.18.0->tensorflow) (2.18.0)\n",
      "Requirement already satisfied: keras>=3.5.0 in c:\\users\\hp\\appdata\\roaming\\python\\python312\\site-packages (from tensorflow-intel==2.18.0->tensorflow) (3.7.0)\n",
      "Requirement already satisfied: numpy<2.1.0,>=1.26.0 in c:\\programdata\\anaconda3\\lib\\site-packages (from tensorflow-intel==2.18.0->tensorflow) (1.26.4)\n",
      "Requirement already satisfied: h5py>=3.11.0 in c:\\programdata\\anaconda3\\lib\\site-packages (from tensorflow-intel==2.18.0->tensorflow) (3.11.0)\n",
      "Requirement already satisfied: ml-dtypes<0.5.0,>=0.4.0 in c:\\users\\hp\\appdata\\roaming\\python\\python312\\site-packages (from tensorflow-intel==2.18.0->tensorflow) (0.4.1)\n",
      "Requirement already satisfied: wheel<1.0,>=0.23.0 in c:\\programdata\\anaconda3\\lib\\site-packages (from astunparse>=1.6.0->tensorflow-intel==2.18.0->tensorflow) (0.43.0)\n",
      "Requirement already satisfied: rich in c:\\programdata\\anaconda3\\lib\\site-packages (from keras>=3.5.0->tensorflow-intel==2.18.0->tensorflow) (13.3.5)\n",
      "Requirement already satisfied: namex in c:\\users\\hp\\appdata\\roaming\\python\\python312\\site-packages (from keras>=3.5.0->tensorflow-intel==2.18.0->tensorflow) (0.0.8)\n",
      "Requirement already satisfied: optree in c:\\users\\hp\\appdata\\roaming\\python\\python312\\site-packages (from keras>=3.5.0->tensorflow-intel==2.18.0->tensorflow) (0.13.1)\n",
      "Requirement already satisfied: charset-normalizer<4,>=2 in c:\\programdata\\anaconda3\\lib\\site-packages (from requests<3,>=2.21.0->tensorflow-intel==2.18.0->tensorflow) (2.0.4)\n",
      "Requirement already satisfied: idna<4,>=2.5 in c:\\programdata\\anaconda3\\lib\\site-packages (from requests<3,>=2.21.0->tensorflow-intel==2.18.0->tensorflow) (3.7)\n",
      "Requirement already satisfied: urllib3<3,>=1.21.1 in c:\\programdata\\anaconda3\\lib\\site-packages (from requests<3,>=2.21.0->tensorflow-intel==2.18.0->tensorflow) (2.2.2)\n",
      "Requirement already satisfied: certifi>=2017.4.17 in c:\\programdata\\anaconda3\\lib\\site-packages (from requests<3,>=2.21.0->tensorflow-intel==2.18.0->tensorflow) (2024.6.2)\n",
      "Requirement already satisfied: markdown>=2.6.8 in c:\\programdata\\anaconda3\\lib\\site-packages (from tensorboard<2.19,>=2.18->tensorflow-intel==2.18.0->tensorflow) (3.4.1)\n",
      "Requirement already satisfied: tensorboard-data-server<0.8.0,>=0.7.0 in c:\\users\\hp\\appdata\\roaming\\python\\python312\\site-packages (from tensorboard<2.19,>=2.18->tensorflow-intel==2.18.0->tensorflow) (0.7.2)\n",
      "Requirement already satisfied: werkzeug>=1.0.1 in c:\\programdata\\anaconda3\\lib\\site-packages (from tensorboard<2.19,>=2.18->tensorflow-intel==2.18.0->tensorflow) (3.0.3)\n",
      "Requirement already satisfied: MarkupSafe>=2.1.1 in c:\\programdata\\anaconda3\\lib\\site-packages (from werkzeug>=1.0.1->tensorboard<2.19,>=2.18->tensorflow-intel==2.18.0->tensorflow) (2.1.3)\n",
      "Requirement already satisfied: markdown-it-py<3.0.0,>=2.2.0 in c:\\programdata\\anaconda3\\lib\\site-packages (from rich->keras>=3.5.0->tensorflow-intel==2.18.0->tensorflow) (2.2.0)\n",
      "Requirement already satisfied: pygments<3.0.0,>=2.13.0 in c:\\users\\hp\\appdata\\roaming\\python\\python312\\site-packages (from rich->keras>=3.5.0->tensorflow-intel==2.18.0->tensorflow) (2.19.2)\n",
      "Requirement already satisfied: mdurl~=0.1 in c:\\programdata\\anaconda3\\lib\\site-packages (from markdown-it-py<3.0.0,>=2.2.0->rich->keras>=3.5.0->tensorflow-intel==2.18.0->tensorflow) (0.1.0)\n",
      "Note: you may need to restart the kernel to use updated packages.\n"
     ]
    }
   ],
   "source": [
    "pip install tensorflow\n"
   ]
  },
  {
   "cell_type": "code",
   "execution_count": 6,
   "id": "200e5d68-a24d-460e-923b-31e799ebcf96",
   "metadata": {},
   "outputs": [],
   "source": [
    "import tensorflow as tf\n"
   ]
  },
  {
   "cell_type": "code",
   "execution_count": 5,
   "id": "1ade72ab-e2e2-4e1b-8c3d-1aadd5d43e9f",
   "metadata": {},
   "outputs": [
    {
     "name": "stdout",
     "output_type": "stream",
     "text": [
      "2.18.0\n"
     ]
    }
   ],
   "source": [
    "print(tf.__version__)"
   ]
  },
  {
   "cell_type": "code",
   "execution_count": 9,
   "id": "9826be01-547f-477a-b222-cc8a833fc7d0",
   "metadata": {},
   "outputs": [],
   "source": [
    "\n",
    "from tensorflow.keras.preprocessing.text import one_hot"
   ]
  },
  {
   "cell_type": "code",
   "execution_count": 16,
   "id": "daf050be-92d0-4af3-92d4-08670f6ae8a9",
   "metadata": {},
   "outputs": [
    {
     "name": "stdout",
     "output_type": "stream",
     "text": [
      "[[43, 11, 24, 43, 43, 19], [43, 15, 20, 45, 49]]\n"
     ]
    }
   ],
   "source": [
    "from tensorflow.keras.preprocessing.text import one_hot\n",
    "\n",
    "# Sample sentences (as strings, not pre-tokenized)\n",
    "sentences = [\n",
    "    \"the cat sat on the mat\",\n",
    "    \"the dog ate my homework\"\n",
    "]\n",
    "\n",
    "vocab_size = 50  # Vocabulary size (hash space)\n",
    "\n",
    "# Correct usage: Apply one_hot to each sentence (string)\n",
    "encoded_sentences = [one_hot(sentence, vocab_size) for sentence in sentences]\n",
    "print(encoded_sentences)"
   ]
  },
  {
   "cell_type": "code",
   "execution_count": 22,
   "id": "738941e1-6312-48d2-b0dc-eff5e68775b7",
   "metadata": {},
   "outputs": [],
   "source": [
    "# word Embeeding Representation\n",
    "from tensorflow.keras.layers import Embedding\n",
    "from tensorflow.keras.preprocessing.sequence import pad_sequences\n",
    "from tensorflow.keras.models import Sequential"
   ]
  },
  {
   "cell_type": "code",
   "execution_count": 28,
   "id": "f0c9c997-9dfd-4d1a-8b65-e449bbad582f",
   "metadata": {},
   "outputs": [
    {
     "name": "stdout",
     "output_type": "stream",
     "text": [
      "[[ 0  0  0 43 11 24 43 43 19]\n",
      " [ 0  0  0  0 43 15 20 45 49]]\n"
     ]
    }
   ],
   "source": [
    "# sentences in sent must bee of all same size\n",
    "\n",
    "import numpy as np\n",
    "sent_length=9\n",
    "embedded_code=pad_sequences(encoded_sentences,padding='pre',maxlen=9)\n",
    "print(embedded_code)\n"
   ]
  },
  {
   "cell_type": "markdown",
   "id": "fea61cdb-6855-48f7-af3f-91d20bd013c3",
   "metadata": {},
   "source": [
    "# Feauture Dimensions from one_hot"
   ]
  },
  {
   "cell_type": "code",
   "execution_count": 32,
   "id": "4f31242d-5367-4ed9-834a-0d4e69764c1f",
   "metadata": {},
   "outputs": [
    {
     "name": "stderr",
     "output_type": "stream",
     "text": [
      "C:\\Users\\hp\\AppData\\Roaming\\Python\\Python312\\site-packages\\keras\\src\\layers\\core\\embedding.py:90: UserWarning: Argument `input_length` is deprecated. Just remove it.\n",
      "  warnings.warn(\n"
     ]
    }
   ],
   "source": [
    "dim=10\n",
    "model=Sequential()\n",
    "\n",
    "model.add(Embedding(\n",
    "    input_dim=vocab_size,  # Vocabulary size\n",
    "    output_dim=dim,        # Embedding dimension\n",
    "    input_length=sent_length  # Length of input sequences\n",
    "))"
   ]
  },
  {
   "cell_type": "code",
   "execution_count": 33,
   "id": "b9ccde77-e9ae-47d0-860a-62df09ebc918",
   "metadata": {},
   "outputs": [],
   "source": [
    "model.compile('adam','mse')"
   ]
  },
  {
   "cell_type": "code",
   "execution_count": 36,
   "id": "81ec0ce9-6d68-4879-9030-f89d1aa29bec",
   "metadata": {},
   "outputs": [
    {
     "data": {
      "text/plain": [
       "array([ 0,  0,  0, 43, 11, 24, 43, 43, 19])"
      ]
     },
     "execution_count": 36,
     "metadata": {},
     "output_type": "execute_result"
    }
   ],
   "source": [
    "embedded_code[0]"
   ]
  },
  {
   "cell_type": "code",
   "execution_count": 35,
   "id": "34f504be-7a20-4443-aed4-387843d060d1",
   "metadata": {},
   "outputs": [
    {
     "name": "stdout",
     "output_type": "stream",
     "text": [
      "\u001b[1m1/1\u001b[0m \u001b[32m━━━━━━━━━━━━━━━━━━━━\u001b[0m\u001b[37m\u001b[0m \u001b[1m0s\u001b[0m 347ms/step\n",
      "[[[-1.8797070e-04 -1.7001938e-02 -2.2568082e-02 -4.4116367e-02\n",
      "   -3.3288859e-02  3.4214143e-02 -4.1839492e-02  1.6510379e-02\n",
      "    2.8016161e-02  4.7306631e-02]\n",
      "  [-1.8797070e-04 -1.7001938e-02 -2.2568082e-02 -4.4116367e-02\n",
      "   -3.3288859e-02  3.4214143e-02 -4.1839492e-02  1.6510379e-02\n",
      "    2.8016161e-02  4.7306631e-02]\n",
      "  [-1.8797070e-04 -1.7001938e-02 -2.2568082e-02 -4.4116367e-02\n",
      "   -3.3288859e-02  3.4214143e-02 -4.1839492e-02  1.6510379e-02\n",
      "    2.8016161e-02  4.7306631e-02]\n",
      "  [-2.1532550e-03 -1.8137764e-02  3.4200739e-02  3.0830018e-03\n",
      "   -1.4005527e-03  4.2199258e-02  1.0063458e-02 -4.2568114e-02\n",
      "    2.3568515e-02  2.0558704e-02]\n",
      "  [ 4.8350763e-02  4.3576028e-02  4.1154388e-02  3.4865234e-02\n",
      "    9.6127167e-03 -4.0784933e-02 -1.9799054e-02 -3.1392016e-02\n",
      "    1.9408550e-02 -4.9818266e-02]\n",
      "  [ 2.0287227e-02 -3.1498216e-02 -4.3458521e-02 -3.4039378e-02\n",
      "   -1.6417205e-02 -7.3102228e-03  5.4282062e-03 -1.9606603e-02\n",
      "    4.3130759e-02 -3.7030421e-02]\n",
      "  [-2.1532550e-03 -1.8137764e-02  3.4200739e-02  3.0830018e-03\n",
      "   -1.4005527e-03  4.2199258e-02  1.0063458e-02 -4.2568114e-02\n",
      "    2.3568515e-02  2.0558704e-02]\n",
      "  [-2.1532550e-03 -1.8137764e-02  3.4200739e-02  3.0830018e-03\n",
      "   -1.4005527e-03  4.2199258e-02  1.0063458e-02 -4.2568114e-02\n",
      "    2.3568515e-02  2.0558704e-02]\n",
      "  [ 3.5641659e-02  3.2536421e-02  2.9111933e-02 -3.8716830e-02\n",
      "    3.1575333e-02  4.6027113e-02 -1.9480754e-02 -3.6063243e-02\n",
      "    2.0755503e-02  3.4327958e-02]]\n",
      "\n",
      " [[-1.8797070e-04 -1.7001938e-02 -2.2568082e-02 -4.4116367e-02\n",
      "   -3.3288859e-02  3.4214143e-02 -4.1839492e-02  1.6510379e-02\n",
      "    2.8016161e-02  4.7306631e-02]\n",
      "  [-1.8797070e-04 -1.7001938e-02 -2.2568082e-02 -4.4116367e-02\n",
      "   -3.3288859e-02  3.4214143e-02 -4.1839492e-02  1.6510379e-02\n",
      "    2.8016161e-02  4.7306631e-02]\n",
      "  [-1.8797070e-04 -1.7001938e-02 -2.2568082e-02 -4.4116367e-02\n",
      "   -3.3288859e-02  3.4214143e-02 -4.1839492e-02  1.6510379e-02\n",
      "    2.8016161e-02  4.7306631e-02]\n",
      "  [-1.8797070e-04 -1.7001938e-02 -2.2568082e-02 -4.4116367e-02\n",
      "   -3.3288859e-02  3.4214143e-02 -4.1839492e-02  1.6510379e-02\n",
      "    2.8016161e-02  4.7306631e-02]\n",
      "  [-2.1532550e-03 -1.8137764e-02  3.4200739e-02  3.0830018e-03\n",
      "   -1.4005527e-03  4.2199258e-02  1.0063458e-02 -4.2568114e-02\n",
      "    2.3568515e-02  2.0558704e-02]\n",
      "  [-2.9911196e-02  3.2609131e-02 -3.3428825e-02 -3.9438892e-02\n",
      "    1.9951787e-02  1.7686795e-02  3.8176011e-02  4.6813700e-02\n",
      "    3.4864817e-02 -1.2005426e-02]\n",
      "  [-4.8872840e-02  3.1169619e-02  3.3091400e-02  2.0920858e-03\n",
      "   -4.8037529e-02  1.2873258e-02 -2.3943199e-02  7.8033656e-05\n",
      "   -3.5825528e-02 -4.3415189e-02]\n",
      "  [-2.3419783e-04  3.0705977e-02  3.6899637e-02  2.0729806e-02\n",
      "    3.4064855e-02 -1.0214329e-02  3.1297933e-02 -3.9942406e-02\n",
      "   -1.8860949e-02  3.6220644e-02]\n",
      "  [-3.9908994e-02 -4.0695798e-02  4.0421043e-02 -4.9846768e-03\n",
      "    6.1923973e-03  3.2185499e-02  4.6326350e-02  2.0811860e-02\n",
      "    2.8932560e-02  5.2869543e-03]]]\n"
     ]
    }
   ],
   "source": [
    "print(model.predict(embedded_code))"
   ]
  },
  {
   "cell_type": "markdown",
   "id": "ee3d6908-95e9-4ab0-a5fb-dd5923271c29",
   "metadata": {},
   "source": [
    "# completed"
   ]
  },
  {
   "cell_type": "code",
   "execution_count": null,
   "id": "4fbbcb49-aea8-46c1-a4c9-479f6d528cd2",
   "metadata": {},
   "outputs": [],
   "source": []
  }
 ],
 "metadata": {
  "kernelspec": {
   "display_name": "Python 3 (ipykernel)",
   "language": "python",
   "name": "python3"
  },
  "language_info": {
   "codemirror_mode": {
    "name": "ipython",
    "version": 3
   },
   "file_extension": ".py",
   "mimetype": "text/x-python",
   "name": "python",
   "nbconvert_exporter": "python",
   "pygments_lexer": "ipython3",
   "version": "3.12.4"
  }
 },
 "nbformat": 4,
 "nbformat_minor": 5
}
