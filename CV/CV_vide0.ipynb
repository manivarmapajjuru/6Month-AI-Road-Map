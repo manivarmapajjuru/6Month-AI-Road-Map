{
 "cells": [
  {
   "cell_type": "code",
   "execution_count": 2,
   "id": "07b77d62-eebe-423d-b8a9-3cce0a69f270",
   "metadata": {},
   "outputs": [],
   "source": [
    "import cv2\n",
    "import numpy as np\n",
    "import matplotlib.pyplot as plt"
   ]
  },
  {
   "cell_type": "code",
   "execution_count": 3,
   "id": "b6eacadd-5f69-40fd-814b-a2da91192a1f",
   "metadata": {},
   "outputs": [],
   "source": [
    "face_cascade = cv2.CascadeClassifier(\"/content/haarcascade_frontalface_default.xml\")\n",
    "eye_cascade = cv2.CascadeClassifier('/content/haarcascade_eye.xml')"
   ]
  },
  {
   "cell_type": "markdown",
   "id": "f8ffe5a6-bdd9-45de-b3a4-a1fe2d144358",
   "metadata": {},
   "source": [
    "###### it capture the image only but it backend the aceesing it has  a video \n",
    "###### in 1 sec it generate 30 images\n",
    "\n",
    "# capture the videos"
   ]
  },
  {
   "cell_type": "code",
   "execution_count": 6,
   "id": "695baed8-0236-4224-8837-41e77888d1db",
   "metadata": {},
   "outputs": [
    {
     "ename": "AttributeError",
     "evalue": "module 'cv2' has no attribute 'waitkey'",
     "output_type": "error",
     "traceback": [
      "\u001b[1;31m---------------------------------------------------------------------------\u001b[0m",
      "\u001b[1;31mAttributeError\u001b[0m                            Traceback (most recent call last)",
      "Cell \u001b[1;32mIn[6], line 12\u001b[0m\n\u001b[0;32m     10\u001b[0m     gray\u001b[38;5;241m=\u001b[39mcv2\u001b[38;5;241m.\u001b[39mcvtColor(frame,cv2\u001b[38;5;241m.\u001b[39mCOLOR_BGR2GRAY)\n\u001b[0;32m     11\u001b[0m     cv2\u001b[38;5;241m.\u001b[39mimshow(\u001b[38;5;124m'\u001b[39m\u001b[38;5;124mVideo\u001b[39m\u001b[38;5;124m'\u001b[39m,gray) \u001b[38;5;66;03m# it iternates continous and generate the images as video\u001b[39;00m\n\u001b[1;32m---> 12\u001b[0m     \u001b[38;5;28;01mif\u001b[39;00m cv2\u001b[38;5;241m.\u001b[39mwaitkey(\u001b[38;5;241m1\u001b[39m)\u001b[38;5;241m==\u001b[39m\u001b[38;5;28mord\u001b[39m(\u001b[38;5;124m'\u001b[39m\u001b[38;5;124mq\u001b[39m\u001b[38;5;124m'\u001b[39m):\n\u001b[0;32m     13\u001b[0m         \u001b[38;5;28;01mbreak\u001b[39;00m   \u001b[38;5;66;03m# if we click q it will close the window\u001b[39;00m\n\u001b[0;32m     14\u001b[0m video\u001b[38;5;241m.\u001b[39mrelease()\n",
      "\u001b[1;31mAttributeError\u001b[0m: module 'cv2' has no attribute 'waitkey'"
     ]
    }
   ],
   "source": [
    "\n",
    "video=cv2.VideoCapture(0) # get live the video\n",
    "# it capture the image only but it backend the aceesing it has  a video \n",
    "# in 1 sec it generate 30 images\n",
    "while True:\n",
    "    check,frame=video.read() # check the image no and do it as a frame\n",
    "    gray=cv2.cvtColor(frame,cv2.COLOR_BGR2GRAY)\n",
    "    cv2.imshow('Video',gray) # it iternates continous and generate the images as video\n",
    "    if cv2.waitkey(1)==ord('q'):\n",
    "        break   # if we click q it will close the window\n",
    "video.release()\n",
    "cv2.destroyAllWindows()"
   ]
  },
  {
   "cell_type": "code",
   "execution_count": 3,
   "id": "cad7baad-bfb9-4971-854a-59576a4e373f",
   "metadata": {},
   "outputs": [],
   "source": [
    "import cv2\n",
    "\n",
    "video = cv2.VideoCapture(0)  # Open webcam (0 = default camera)\n",
    "\n",
    "while True:\n",
    "    check, frame = video.read()  # ✅ Call the function to get the frame\n",
    "    gray = cv2.cvtColor(frame, cv2.COLOR_BGR2GRAY)  # Convert to grayscale\n",
    "    cv2.imshow('Video', frame)  # Show the video frame # use gray for black white images\n",
    "\n",
    "    if cv2.waitKey(1) == ord('q'):  # Press 'q' to quit\n",
    "        break\n",
    "\n",
    "video.release()\n",
    "cv2.destroyAllWindows()\n"
   ]
  },
  {
   "cell_type": "markdown",
   "id": "5f198359-337a-459b-ad42-b760a9f67b2e",
   "metadata": {},
   "source": [
    "# Face and eye Detection using HAARCASCADE"
   ]
  },
  {
   "cell_type": "raw",
   "id": "c5b22db6-3470-4eea-ba5c-be4dacec3cd2",
   "metadata": {},
   "source": [
    "faces = face_cascade.detectMultiScale(gray, 1.3, 5)\n",
    "gray: The grayscale image/frame.\n",
    "\n",
    "1.3: Scale factor (how much image size is reduced at each scale).\n",
    "\n",
    "5: Minimum neighbors (higher = fewer detections, but better quality)."
   ]
  },
  {
   "cell_type": "code",
   "execution_count": 6,
   "id": "ab295c62-2353-4348-8c53-8d67eb9c0c39",
   "metadata": {},
   "outputs": [],
   "source": [
    "import cv2\n",
    "\n",
    "# Load Haar cascades\n",
    "face_cascade = cv2.CascadeClassifier(cv2.data.haarcascades + 'haarcascade_frontalface_default.xml')\n",
    "eye_cascade  = cv2.CascadeClassifier(cv2.data.haarcascades + 'haarcascade_eye.xml')\n",
    "\n",
    "def detect(gray, frame):\n",
    "    faces = face_cascade.detectMultiScale(gray, 1.3, 5)\n",
    "    for (x, y, w, h) in faces:\n",
    "        # Draw face rectangle\n",
    "        cv2.rectangle(frame, (x, y), (x+w, y+h), (255, 0, 0), 2)\n",
    "\n",
    "        roi_gray  = gray[y:y+h, x:x+w]\n",
    "        roi_color = frame[y:y+h, x:x+w]\n",
    "\n",
    "        # Limit eye detection to upper part of the face\n",
    "        eye_gray_region = roi_gray[0:int(h*0.6), :]\n",
    "        eye_color_region = roi_color[0:int(h*0.6), :]\n",
    "\n",
    "        # Detect eyes in upper face region\n",
    "        eyes = eye_cascade.detectMultiScale(eye_gray_region, scaleFactor=1.1, minNeighbors=3)\n",
    "\n",
    "        for (ex, ey, ew, eh) in eyes:\n",
    "            cv2.rectangle(eye_color_region, (ex, ey), (ex+ew, ey+eh), (0, 255, 0), 2)\n",
    "\n",
    "    return frame\n",
    "\n",
    "# Live video capture\n",
    "video = cv2.VideoCapture(0)\n",
    "\n",
    "while True:\n",
    "    check, frame = video.read()\n",
    "    gray = cv2.cvtColor(frame, cv2.COLOR_BGR2GRAY)\n",
    "    canvas = detect(gray, frame)\n",
    "    cv2.imshow('Video', canvas)\n",
    "\n",
    "    if cv2.waitKey(1) == ord('q'):\n",
    "        break\n",
    "\n",
    "video.release()\n",
    "cv2.destroyAllWindows()\n"
   ]
  },
  {
   "cell_type": "markdown",
   "id": "156ef7a9-14ea-4bfe-b5c4-66ae59f47fb4",
   "metadata": {},
   "source": [
    "# In video body DETECTOIN"
   ]
  },
  {
   "cell_type": "code",
   "execution_count": 7,
   "id": "e322f757-82ec-4e5d-8023-c757c30d475b",
   "metadata": {},
   "outputs": [],
   "source": [
    "import cv2\n",
    "\n",
    "# Load the body classifier\n",
    "import cv2\n",
    "\n",
    "# Use OpenCV's built-in path to haarcascades\n",
    "body_classifier = cv2.CascadeClassifier(cv2.data.haarcascades + 'haarcascade_fullbody.xml')\n",
    "\n",
    "# Load the video\n",
    "cap = cv2.VideoCapture(r\"C:\\Users\\hp\\OneDrive\\Documents\\SRK_CLASS\\SRK_Class\\Notes\\21.Computer Vision\\image_examples\\walking.avi\")\n",
    "\n",
    "# Loop through frames\n",
    "while cap.isOpened():\n",
    "    check, frame = cap.read()\n",
    "    if not check:\n",
    "        break  # Exit the loop if frame not read successfully\n",
    "\n",
    "    # Convert to grayscale\n",
    "    gray = cv2.cvtColor(frame, cv2.COLOR_BGR2GRAY)\n",
    "\n",
    "    # Detect bodies\n",
    "    bodies = body_classifier.detectMultiScale(gray, 1.2, 3)\n",
    "\n",
    "    # Draw rectangles around detected bodies\n",
    "    for (x, y, w, h) in bodies:\n",
    "        cv2.rectangle(frame, (x, y), (x + w, y + h), (0, 255, 25), 2)\n",
    "\n",
    "    # Show the frame\n",
    "    cv2.imshow('Pedestrians', frame)  # ✅ FIXED: 'frame' was inside the string, which was wrong\n",
    "\n",
    "    # Exit on pressing 'q'\n",
    "    if cv2.waitKey(1) == ord('q'):\n",
    "        break\n",
    "\n",
    "# Release resources\n",
    "cap.release()  # ✅ FIXED: It should be cap.release(), not video.release()\n",
    "cv2.destroyAllWindows()\n"
   ]
  },
  {
   "cell_type": "markdown",
   "id": "cea2a98f-236d-416b-9263-93fdff7b7deb",
   "metadata": {},
   "source": [
    "# CAR DETECTION"
   ]
  },
  {
   "cell_type": "code",
   "execution_count": null,
   "id": "3fbd910c-06b3-4bd0-b2ca-cbba3b98977b",
   "metadata": {},
   "outputs": [],
   "source": [
    "\"C:\\Users\\hp\\OneDrive\\Documents\\SRK_CLASS\\SRK_Class\\Notes\\21.Computer Vision\\image_examples\\cars.avi\""
   ]
  },
  {
   "cell_type": "code",
   "execution_count": 8,
   "id": "8e577ed6-e42c-431f-a258-fc2318d4febd",
   "metadata": {},
   "outputs": [],
   "source": [
    "import cv2\n",
    "\n",
    "# Load the car classifier\n",
    "car_classifier = cv2.CascadeClassifier(r\"C:\\Users\\hp\\Downloads\\cars.xml\")  # <- Change this path\n",
    "\n",
    "# Load the car video\n",
    "cap = cv2.VideoCapture(r\"C:\\Users\\hp\\OneDrive\\Documents\\SRK_CLASS\\SRK_Class\\Notes\\21.Computer Vision\\image_examples\\cars.avi\")\n",
    "\n",
    "# Process video frames\n",
    "while cap.isOpened():\n",
    "    check, frame = cap.read()\n",
    "    if not check:\n",
    "        break\n",
    "\n",
    "    gray = cv2.cvtColor(frame, cv2.COLOR_BGR2GRAY)\n",
    "\n",
    "    # Detect cars in the frame\n",
    "    cars = car_classifier.detectMultiScale(gray, scaleFactor=1.1, minNeighbors=3)\n",
    "\n",
    "    for (x, y, w, h) in cars:\n",
    "        cv2.rectangle(frame, (x, y), (x + w, y + h), (0, 255, 0), 2)\n",
    "\n",
    "    cv2.imshow('Cars', frame)\n",
    "\n",
    "    if cv2.waitKey(1) == ord('q'):\n",
    "        break\n",
    "\n",
    "cap.release()\n",
    "cv2.destroyAllWindows()\n"
   ]
  },
  {
   "cell_type": "code",
   "execution_count": null,
   "id": "4963f1cc-1a0d-40d2-a4db-df99d79549f5",
   "metadata": {},
   "outputs": [],
   "source": []
  }
 ],
 "metadata": {
  "kernelspec": {
   "display_name": "Python 3 (ipykernel)",
   "language": "python",
   "name": "python3"
  },
  "language_info": {
   "codemirror_mode": {
    "name": "ipython",
    "version": 3
   },
   "file_extension": ".py",
   "mimetype": "text/x-python",
   "name": "python",
   "nbconvert_exporter": "python",
   "pygments_lexer": "ipython3",
   "version": "3.12.4"
  }
 },
 "nbformat": 4,
 "nbformat_minor": 5
}
